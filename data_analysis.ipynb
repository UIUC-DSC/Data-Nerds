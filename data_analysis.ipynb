{
 "cells": [
  {
   "cell_type": "code",
   "execution_count": 156,
   "metadata": {},
   "outputs": [],
   "source": [
    "import pandas as pd\n",
    "import numpy as np\n",
    "import seaborn as sn\n",
    "import matplotlib.pyplot as plt\n",
    "from sklearn.linear_model import LinearRegression\n",
    "%matplotlib inline\n",
    "\n",
    "fires = 'datasets/outputs/big_wildfires_2.csv'\n",
    "temperatures = 'datasets/outputs/city_temp.csv'\n",
    "\n",
    "data1 = pd.read_csv(fires)\n",
    "data2 = pd.read_csv(temperatures)\n",
    "\n",
    "data1['date'] = pd.to_datetime(data1['date'])\n",
    "data2['date'] = pd.to_datetime(data2['date'])\n",
    "\n",
    "# need to figure out how to get city names based on longitude/latitude in first dataset\n",
    "\n",
    "data = data1.merge(data2, on=['date', 'city'])\n",
    "\n",
    "\n"
   ]
  },
  {
   "cell_type": "code",
   "execution_count": 301,
   "metadata": {},
   "outputs": [
    {
     "name": "stdout",
     "output_type": "stream",
     "text": [
      "862\n",
      "29350\n"
     ]
    }
   ],
   "source": [
    "print(len(data1))\n",
    "print(len(data2))"
   ]
  },
  {
   "cell_type": "code",
   "execution_count": 319,
   "metadata": {},
   "outputs": [
    {
     "data": {
      "text/plain": [
       "date\n",
       "2000    110.0\n",
       "2001    106.0\n",
       "2002    110.0\n",
       "2003    106.0\n",
       "2004    104.0\n",
       "2005    105.0\n",
       "2006    116.0\n",
       "2007    112.0\n",
       "2008    111.0\n",
       "2009    101.0\n",
       "2010    113.0\n",
       "2011    109.0\n",
       "2012    107.0\n",
       "2013    105.0\n",
       "2014    108.0\n",
       "2015    108.0\n",
       "2016    112.0\n",
       "2017    106.0\n",
       "2018    108.0\n",
       "2019     97.0\n",
       "2020    111.0\n",
       "2021     94.0\n",
       "2022    103.0\n",
       "2023     80.0\n",
       "Name: max_temp, dtype: float64"
      ]
     },
     "execution_count": 319,
     "metadata": {},
     "output_type": "execute_result"
    }
   ],
   "source": [
    "data2.groupby(data2['date'].dt.year)['max_temp'].max()"
   ]
  },
  {
   "cell_type": "code",
   "execution_count": 158,
   "metadata": {},
   "outputs": [],
   "source": [
    "# one hot encode the city column\n",
    "# data['city'] = data['city'].map({'los_angeles': 1, 'san_fran': 2, 'san_diego': 3, 'riverside': 4})\n",
    "data['city'] = data['city'].map({'los_angeles': 1, 'san_fran': 2})"
   ]
  },
  {
   "cell_type": "code",
   "execution_count": 159,
   "metadata": {},
   "outputs": [
    {
     "data": {
      "text/html": [
       "<div>\n",
       "<style scoped>\n",
       "    .dataframe tbody tr th:only-of-type {\n",
       "        vertical-align: middle;\n",
       "    }\n",
       "\n",
       "    .dataframe tbody tr th {\n",
       "        vertical-align: top;\n",
       "    }\n",
       "\n",
       "    .dataframe thead th {\n",
       "        text-align: right;\n",
       "    }\n",
       "</style>\n",
       "<table border=\"1\" class=\"dataframe\">\n",
       "  <thead>\n",
       "    <tr style=\"text-align: right;\">\n",
       "      <th></th>\n",
       "      <th>Unnamed: 0_x</th>\n",
       "      <th>date</th>\n",
       "      <th>latitude</th>\n",
       "      <th>longitude</th>\n",
       "      <th>satellite</th>\n",
       "      <th>instrument</th>\n",
       "      <th>avg_frp</th>\n",
       "      <th>surface_temp</th>\n",
       "      <th>confidence</th>\n",
       "      <th>fire_count</th>\n",
       "      <th>city</th>\n",
       "      <th>Unnamed: 0_y</th>\n",
       "      <th>max_temp</th>\n",
       "      <th>min_temp</th>\n",
       "      <th>mean_temp</th>\n",
       "      <th>rain</th>\n",
       "    </tr>\n",
       "  </thead>\n",
       "  <tbody>\n",
       "    <tr>\n",
       "      <th>0</th>\n",
       "      <td>0</td>\n",
       "      <td>2001-01-03</td>\n",
       "      <td>32.802675</td>\n",
       "      <td>-116.687525</td>\n",
       "      <td>1.000000</td>\n",
       "      <td>1.0</td>\n",
       "      <td>1447.000000</td>\n",
       "      <td>324.825000</td>\n",
       "      <td>100.0</td>\n",
       "      <td>4</td>\n",
       "      <td>1</td>\n",
       "      <td>308</td>\n",
       "      <td>80.0</td>\n",
       "      <td>45.0</td>\n",
       "      <td>62.5</td>\n",
       "      <td>0.00</td>\n",
       "    </tr>\n",
       "    <tr>\n",
       "      <th>1</th>\n",
       "      <td>1</td>\n",
       "      <td>2001-05-27</td>\n",
       "      <td>39.984300</td>\n",
       "      <td>-119.658350</td>\n",
       "      <td>1.000000</td>\n",
       "      <td>1.0</td>\n",
       "      <td>959.850000</td>\n",
       "      <td>297.450000</td>\n",
       "      <td>100.0</td>\n",
       "      <td>2</td>\n",
       "      <td>2</td>\n",
       "      <td>452</td>\n",
       "      <td>63.0</td>\n",
       "      <td>51.0</td>\n",
       "      <td>57.0</td>\n",
       "      <td>0.00</td>\n",
       "    </tr>\n",
       "    <tr>\n",
       "      <th>2</th>\n",
       "      <td>2</td>\n",
       "      <td>2001-06-03</td>\n",
       "      <td>32.707500</td>\n",
       "      <td>-115.162300</td>\n",
       "      <td>1.000000</td>\n",
       "      <td>1.0</td>\n",
       "      <td>707.400000</td>\n",
       "      <td>322.200000</td>\n",
       "      <td>100.0</td>\n",
       "      <td>1</td>\n",
       "      <td>1</td>\n",
       "      <td>459</td>\n",
       "      <td>74.0</td>\n",
       "      <td>61.0</td>\n",
       "      <td>67.5</td>\n",
       "      <td>0.00</td>\n",
       "    </tr>\n",
       "    <tr>\n",
       "      <th>3</th>\n",
       "      <td>3</td>\n",
       "      <td>2001-07-27</td>\n",
       "      <td>38.610733</td>\n",
       "      <td>-119.633900</td>\n",
       "      <td>1.000000</td>\n",
       "      <td>1.0</td>\n",
       "      <td>1637.066667</td>\n",
       "      <td>321.933333</td>\n",
       "      <td>100.0</td>\n",
       "      <td>3</td>\n",
       "      <td>2</td>\n",
       "      <td>513</td>\n",
       "      <td>64.0</td>\n",
       "      <td>52.0</td>\n",
       "      <td>58.0</td>\n",
       "      <td>0.00</td>\n",
       "    </tr>\n",
       "    <tr>\n",
       "      <th>4</th>\n",
       "      <td>4</td>\n",
       "      <td>2001-08-05</td>\n",
       "      <td>41.754400</td>\n",
       "      <td>-114.269500</td>\n",
       "      <td>1.000000</td>\n",
       "      <td>1.0</td>\n",
       "      <td>780.700000</td>\n",
       "      <td>325.800000</td>\n",
       "      <td>100.0</td>\n",
       "      <td>1</td>\n",
       "      <td>2</td>\n",
       "      <td>522</td>\n",
       "      <td>69.0</td>\n",
       "      <td>56.0</td>\n",
       "      <td>62.5</td>\n",
       "      <td>0.00</td>\n",
       "    </tr>\n",
       "    <tr>\n",
       "      <th>...</th>\n",
       "      <td>...</td>\n",
       "      <td>...</td>\n",
       "      <td>...</td>\n",
       "      <td>...</td>\n",
       "      <td>...</td>\n",
       "      <td>...</td>\n",
       "      <td>...</td>\n",
       "      <td>...</td>\n",
       "      <td>...</td>\n",
       "      <td>...</td>\n",
       "      <td>...</td>\n",
       "      <td>...</td>\n",
       "      <td>...</td>\n",
       "      <td>...</td>\n",
       "      <td>...</td>\n",
       "      <td>...</td>\n",
       "    </tr>\n",
       "    <tr>\n",
       "      <th>854</th>\n",
       "      <td>857</td>\n",
       "      <td>2020-10-20</td>\n",
       "      <td>37.426400</td>\n",
       "      <td>-119.109900</td>\n",
       "      <td>2.000000</td>\n",
       "      <td>1.0</td>\n",
       "      <td>1874.700000</td>\n",
       "      <td>304.600000</td>\n",
       "      <td>100.0</td>\n",
       "      <td>1</td>\n",
       "      <td>2</td>\n",
       "      <td>7538</td>\n",
       "      <td>74.0</td>\n",
       "      <td>53.0</td>\n",
       "      <td>63.5</td>\n",
       "      <td>0.00</td>\n",
       "    </tr>\n",
       "    <tr>\n",
       "      <th>855</th>\n",
       "      <td>858</td>\n",
       "      <td>2020-10-21</td>\n",
       "      <td>37.407700</td>\n",
       "      <td>-119.075600</td>\n",
       "      <td>2.000000</td>\n",
       "      <td>1.0</td>\n",
       "      <td>754.050000</td>\n",
       "      <td>317.050000</td>\n",
       "      <td>100.0</td>\n",
       "      <td>2</td>\n",
       "      <td>2</td>\n",
       "      <td>7539</td>\n",
       "      <td>75.0</td>\n",
       "      <td>57.0</td>\n",
       "      <td>66.0</td>\n",
       "      <td>0.00</td>\n",
       "    </tr>\n",
       "    <tr>\n",
       "      <th>856</th>\n",
       "      <td>859</td>\n",
       "      <td>2020-10-24</td>\n",
       "      <td>37.394350</td>\n",
       "      <td>-119.117900</td>\n",
       "      <td>2.000000</td>\n",
       "      <td>1.0</td>\n",
       "      <td>1164.600000</td>\n",
       "      <td>295.450000</td>\n",
       "      <td>100.0</td>\n",
       "      <td>2</td>\n",
       "      <td>2</td>\n",
       "      <td>7542</td>\n",
       "      <td>66.0</td>\n",
       "      <td>54.0</td>\n",
       "      <td>60.0</td>\n",
       "      <td>0.00</td>\n",
       "    </tr>\n",
       "    <tr>\n",
       "      <th>857</th>\n",
       "      <td>860</td>\n",
       "      <td>2020-10-26</td>\n",
       "      <td>36.202667</td>\n",
       "      <td>-118.648550</td>\n",
       "      <td>1.333333</td>\n",
       "      <td>1.0</td>\n",
       "      <td>1346.283333</td>\n",
       "      <td>304.916667</td>\n",
       "      <td>100.0</td>\n",
       "      <td>6</td>\n",
       "      <td>1</td>\n",
       "      <td>7544</td>\n",
       "      <td>73.0</td>\n",
       "      <td>56.0</td>\n",
       "      <td>64.5</td>\n",
       "      <td>0.00</td>\n",
       "    </tr>\n",
       "    <tr>\n",
       "      <th>858</th>\n",
       "      <td>861</td>\n",
       "      <td>2020-11-18</td>\n",
       "      <td>38.544150</td>\n",
       "      <td>-119.393950</td>\n",
       "      <td>1.000000</td>\n",
       "      <td>1.0</td>\n",
       "      <td>1172.175000</td>\n",
       "      <td>289.100000</td>\n",
       "      <td>100.0</td>\n",
       "      <td>4</td>\n",
       "      <td>2</td>\n",
       "      <td>7567</td>\n",
       "      <td>63.0</td>\n",
       "      <td>53.0</td>\n",
       "      <td>58.0</td>\n",
       "      <td>0.11</td>\n",
       "    </tr>\n",
       "  </tbody>\n",
       "</table>\n",
       "<p>859 rows × 16 columns</p>\n",
       "</div>"
      ],
      "text/plain": [
       "     Unnamed: 0_x       date   latitude   longitude  satellite  instrument  \\\n",
       "0               0 2001-01-03  32.802675 -116.687525   1.000000         1.0   \n",
       "1               1 2001-05-27  39.984300 -119.658350   1.000000         1.0   \n",
       "2               2 2001-06-03  32.707500 -115.162300   1.000000         1.0   \n",
       "3               3 2001-07-27  38.610733 -119.633900   1.000000         1.0   \n",
       "4               4 2001-08-05  41.754400 -114.269500   1.000000         1.0   \n",
       "..            ...        ...        ...         ...        ...         ...   \n",
       "854           857 2020-10-20  37.426400 -119.109900   2.000000         1.0   \n",
       "855           858 2020-10-21  37.407700 -119.075600   2.000000         1.0   \n",
       "856           859 2020-10-24  37.394350 -119.117900   2.000000         1.0   \n",
       "857           860 2020-10-26  36.202667 -118.648550   1.333333         1.0   \n",
       "858           861 2020-11-18  38.544150 -119.393950   1.000000         1.0   \n",
       "\n",
       "         avg_frp  surface_temp  confidence  fire_count  city  Unnamed: 0_y  \\\n",
       "0    1447.000000    324.825000       100.0           4     1           308   \n",
       "1     959.850000    297.450000       100.0           2     2           452   \n",
       "2     707.400000    322.200000       100.0           1     1           459   \n",
       "3    1637.066667    321.933333       100.0           3     2           513   \n",
       "4     780.700000    325.800000       100.0           1     2           522   \n",
       "..           ...           ...         ...         ...   ...           ...   \n",
       "854  1874.700000    304.600000       100.0           1     2          7538   \n",
       "855   754.050000    317.050000       100.0           2     2          7539   \n",
       "856  1164.600000    295.450000       100.0           2     2          7542   \n",
       "857  1346.283333    304.916667       100.0           6     1          7544   \n",
       "858  1172.175000    289.100000       100.0           4     2          7567   \n",
       "\n",
       "     max_temp   min_temp  mean_temp  rain  \n",
       "0        80.0       45.0       62.5  0.00  \n",
       "1        63.0       51.0       57.0  0.00  \n",
       "2        74.0       61.0       67.5  0.00  \n",
       "3        64.0       52.0       58.0  0.00  \n",
       "4        69.0       56.0       62.5  0.00  \n",
       "..        ...        ...        ...   ...  \n",
       "854      74.0       53.0       63.5  0.00  \n",
       "855      75.0       57.0       66.0  0.00  \n",
       "856      66.0       54.0       60.0  0.00  \n",
       "857      73.0       56.0       64.5  0.00  \n",
       "858      63.0       53.0       58.0  0.11  \n",
       "\n",
       "[859 rows x 16 columns]"
      ]
     },
     "execution_count": 159,
     "metadata": {},
     "output_type": "execute_result"
    }
   ],
   "source": [
    "# some visualizations on the existing data\n",
    "data"
   ]
  },
  {
   "cell_type": "code",
   "execution_count": 146,
   "metadata": {},
   "outputs": [
    {
     "data": {
      "image/png": "[encoded data removed]",
      "text/plain": [
       "<Figure size 640x480 with 1 Axes>"
      ]
     },
     "metadata": {},
     "output_type": "display_data"
    }
   ],
   "source": [
    "plt.plot(data1['date'], data1['fire_count'])\n",
    "plt.show()"
   ]
  },
  {
   "cell_type": "code",
   "execution_count": 147,
   "metadata": {},
   "outputs": [
    {
     "data": {
      "image/png": "[encoded data removed]",
      "text/plain": [
       "<Figure size 640x480 with 1 Axes>"
      ]
     },
     "metadata": {},
     "output_type": "display_data"
    }
   ],
   "source": [
    "plt.plot(data2.groupby(data2['date'].dt.year)['mean_temp'].mean())\n",
    "plt.show()\n",
    "# data2.groupby(data2['date'].dt.year)['mean_temp'].mean()"
   ]
  },
  {
   "cell_type": "code",
   "execution_count": 325,
   "metadata": {},
   "outputs": [],
   "source": [
    "data.drop(columns=['Unnamed: 0_x', 'Unnamed: 0_y', 'instrument'], inplace=True)\n",
    "\n",
    "data.to_csv('datasets/outputs/temp_and-fires.csv')\n"
   ]
  },
  {
   "cell_type": "code",
   "execution_count": 326,
   "metadata": {},
   "outputs": [],
   "source": [
    "data = pd.read_csv('datasets/outputs/temp_and-fires.csv', parse_dates=['date'])\n",
    "\n",
    "data.rename(columns={'Unnamed: 0': \"record_#\"}, inplace=True)"
   ]
  },
  {
   "cell_type": "code",
   "execution_count": 327,
   "metadata": {},
   "outputs": [
    {
     "data": {
      "text/html": [
       "<div>\n",
       "<style scoped>\n",
       "    .dataframe tbody tr th:only-of-type {\n",
       "        vertical-align: middle;\n",
       "    }\n",
       "\n",
       "    .dataframe tbody tr th {\n",
       "        vertical-align: top;\n",
       "    }\n",
       "\n",
       "    .dataframe thead th {\n",
       "        text-align: right;\n",
       "    }\n",
       "</style>\n",
       "<table border=\"1\" class=\"dataframe\">\n",
       "  <thead>\n",
       "    <tr style=\"text-align: right;\">\n",
       "      <th></th>\n",
       "      <th>record_#</th>\n",
       "      <th>date</th>\n",
       "      <th>latitude</th>\n",
       "      <th>longitude</th>\n",
       "      <th>satellite</th>\n",
       "      <th>avg_frp</th>\n",
       "      <th>surface_temp</th>\n",
       "      <th>confidence</th>\n",
       "      <th>fire_count</th>\n",
       "      <th>city</th>\n",
       "      <th>max_temp</th>\n",
       "      <th>rain</th>\n",
       "    </tr>\n",
       "  </thead>\n",
       "  <tbody>\n",
       "    <tr>\n",
       "      <th>0</th>\n",
       "      <td>0</td>\n",
       "      <td>2001-01-03</td>\n",
       "      <td>32.802675</td>\n",
       "      <td>-116.687525</td>\n",
       "      <td>1.000000</td>\n",
       "      <td>1447.000000</td>\n",
       "      <td>324.825000</td>\n",
       "      <td>100.0</td>\n",
       "      <td>4</td>\n",
       "      <td>1</td>\n",
       "      <td>80.0</td>\n",
       "      <td>0.00</td>\n",
       "    </tr>\n",
       "    <tr>\n",
       "      <th>1</th>\n",
       "      <td>1</td>\n",
       "      <td>2001-05-27</td>\n",
       "      <td>39.984300</td>\n",
       "      <td>-119.658350</td>\n",
       "      <td>1.000000</td>\n",
       "      <td>959.850000</td>\n",
       "      <td>297.450000</td>\n",
       "      <td>100.0</td>\n",
       "      <td>2</td>\n",
       "      <td>2</td>\n",
       "      <td>63.0</td>\n",
       "      <td>0.00</td>\n",
       "    </tr>\n",
       "    <tr>\n",
       "      <th>2</th>\n",
       "      <td>2</td>\n",
       "      <td>2001-06-03</td>\n",
       "      <td>32.707500</td>\n",
       "      <td>-115.162300</td>\n",
       "      <td>1.000000</td>\n",
       "      <td>707.400000</td>\n",
       "      <td>322.200000</td>\n",
       "      <td>100.0</td>\n",
       "      <td>1</td>\n",
       "      <td>1</td>\n",
       "      <td>74.0</td>\n",
       "      <td>0.00</td>\n",
       "    </tr>\n",
       "    <tr>\n",
       "      <th>3</th>\n",
       "      <td>3</td>\n",
       "      <td>2001-07-27</td>\n",
       "      <td>38.610733</td>\n",
       "      <td>-119.633900</td>\n",
       "      <td>1.000000</td>\n",
       "      <td>1637.066667</td>\n",
       "      <td>321.933333</td>\n",
       "      <td>100.0</td>\n",
       "      <td>3</td>\n",
       "      <td>2</td>\n",
       "      <td>64.0</td>\n",
       "      <td>0.00</td>\n",
       "    </tr>\n",
       "    <tr>\n",
       "      <th>4</th>\n",
       "      <td>4</td>\n",
       "      <td>2001-08-05</td>\n",
       "      <td>41.754400</td>\n",
       "      <td>-114.269500</td>\n",
       "      <td>1.000000</td>\n",
       "      <td>780.700000</td>\n",
       "      <td>325.800000</td>\n",
       "      <td>100.0</td>\n",
       "      <td>1</td>\n",
       "      <td>2</td>\n",
       "      <td>69.0</td>\n",
       "      <td>0.00</td>\n",
       "    </tr>\n",
       "    <tr>\n",
       "      <th>...</th>\n",
       "      <td>...</td>\n",
       "      <td>...</td>\n",
       "      <td>...</td>\n",
       "      <td>...</td>\n",
       "      <td>...</td>\n",
       "      <td>...</td>\n",
       "      <td>...</td>\n",
       "      <td>...</td>\n",
       "      <td>...</td>\n",
       "      <td>...</td>\n",
       "      <td>...</td>\n",
       "      <td>...</td>\n",
       "    </tr>\n",
       "    <tr>\n",
       "      <th>854</th>\n",
       "      <td>854</td>\n",
       "      <td>2020-10-20</td>\n",
       "      <td>37.426400</td>\n",
       "      <td>-119.109900</td>\n",
       "      <td>2.000000</td>\n",
       "      <td>1874.700000</td>\n",
       "      <td>304.600000</td>\n",
       "      <td>100.0</td>\n",
       "      <td>1</td>\n",
       "      <td>2</td>\n",
       "      <td>74.0</td>\n",
       "      <td>0.00</td>\n",
       "    </tr>\n",
       "    <tr>\n",
       "      <th>855</th>\n",
       "      <td>855</td>\n",
       "      <td>2020-10-21</td>\n",
       "      <td>37.407700</td>\n",
       "      <td>-119.075600</td>\n",
       "      <td>2.000000</td>\n",
       "      <td>754.050000</td>\n",
       "      <td>317.050000</td>\n",
       "      <td>100.0</td>\n",
       "      <td>2</td>\n",
       "      <td>2</td>\n",
       "      <td>75.0</td>\n",
       "      <td>0.00</td>\n",
       "    </tr>\n",
       "    <tr>\n",
       "      <th>856</th>\n",
       "      <td>856</td>\n",
       "      <td>2020-10-24</td>\n",
       "      <td>37.394350</td>\n",
       "      <td>-119.117900</td>\n",
       "      <td>2.000000</td>\n",
       "      <td>1164.600000</td>\n",
       "      <td>295.450000</td>\n",
       "      <td>100.0</td>\n",
       "      <td>2</td>\n",
       "      <td>2</td>\n",
       "      <td>66.0</td>\n",
       "      <td>0.00</td>\n",
       "    </tr>\n",
       "    <tr>\n",
       "      <th>857</th>\n",
       "      <td>857</td>\n",
       "      <td>2020-10-26</td>\n",
       "      <td>36.202667</td>\n",
       "      <td>-118.648550</td>\n",
       "      <td>1.333333</td>\n",
       "      <td>1346.283333</td>\n",
       "      <td>304.916667</td>\n",
       "      <td>100.0</td>\n",
       "      <td>6</td>\n",
       "      <td>1</td>\n",
       "      <td>73.0</td>\n",
       "      <td>0.00</td>\n",
       "    </tr>\n",
       "    <tr>\n",
       "      <th>858</th>\n",
       "      <td>858</td>\n",
       "      <td>2020-11-18</td>\n",
       "      <td>38.544150</td>\n",
       "      <td>-119.393950</td>\n",
       "      <td>1.000000</td>\n",
       "      <td>1172.175000</td>\n",
       "      <td>289.100000</td>\n",
       "      <td>100.0</td>\n",
       "      <td>4</td>\n",
       "      <td>2</td>\n",
       "      <td>63.0</td>\n",
       "      <td>0.11</td>\n",
       "    </tr>\n",
       "  </tbody>\n",
       "</table>\n",
       "<p>859 rows × 12 columns</p>\n",
       "</div>"
      ],
      "text/plain": [
       "     record_#       date   latitude   longitude  satellite      avg_frp  \\\n",
       "0           0 2001-01-03  32.802675 -116.687525   1.000000  1447.000000   \n",
       "1           1 2001-05-27  39.984300 -119.658350   1.000000   959.850000   \n",
       "2           2 2001-06-03  32.707500 -115.162300   1.000000   707.400000   \n",
       "3           3 2001-07-27  38.610733 -119.633900   1.000000  1637.066667   \n",
       "4           4 2001-08-05  41.754400 -114.269500   1.000000   780.700000   \n",
       "..        ...        ...        ...         ...        ...          ...   \n",
       "854       854 2020-10-20  37.426400 -119.109900   2.000000  1874.700000   \n",
       "855       855 2020-10-21  37.407700 -119.075600   2.000000   754.050000   \n",
       "856       856 2020-10-24  37.394350 -119.117900   2.000000  1164.600000   \n",
       "857       857 2020-10-26  36.202667 -118.648550   1.333333  1346.283333   \n",
       "858       858 2020-11-18  38.544150 -119.393950   1.000000  1172.175000   \n",
       "\n",
       "     surface_temp  confidence  fire_count  city  max_temp  rain  \n",
       "0      324.825000       100.0           4     1      80.0  0.00  \n",
       "1      297.450000       100.0           2     2      63.0  0.00  \n",
       "2      322.200000       100.0           1     1      74.0  0.00  \n",
       "3      321.933333       100.0           3     2      64.0  0.00  \n",
       "4      325.800000       100.0           1     2      69.0  0.00  \n",
       "..            ...         ...         ...   ...       ...   ...  \n",
       "854    304.600000       100.0           1     2      74.0  0.00  \n",
       "855    317.050000       100.0           2     2      75.0  0.00  \n",
       "856    295.450000       100.0           2     2      66.0  0.00  \n",
       "857    304.916667       100.0           6     1      73.0  0.00  \n",
       "858    289.100000       100.0           4     2      63.0  0.11  \n",
       "\n",
       "[859 rows x 12 columns]"
      ]
     },
     "execution_count": 327,
     "metadata": {},
     "output_type": "execute_result"
    }
   ],
   "source": [
    "data.dtypes\n",
    "data"
   ]
  },
  {
   "cell_type": "code",
   "execution_count": 9,
   "metadata": {},
   "outputs": [],
   "source": [
    "counts = pd.DataFrame(data.groupby(data['date'].dt.year)['fire_count'].sum())"
   ]
  },
  {
   "cell_type": "code",
   "execution_count": 10,
   "metadata": {},
   "outputs": [],
   "source": [
    "avgfrp = pd.DataFrame(data.groupby(data['date'].dt.year)['avg_frp'].mean())"
   ]
  },
  {
   "cell_type": "code",
   "execution_count": 11,
   "metadata": {},
   "outputs": [
    {
     "data": {
      "text/html": [
       "<div>\n",
       "<style scoped>\n",
       "    .dataframe tbody tr th:only-of-type {\n",
       "        vertical-align: middle;\n",
       "    }\n",
       "\n",
       "    .dataframe tbody tr th {\n",
       "        vertical-align: top;\n",
       "    }\n",
       "\n",
       "    .dataframe thead th {\n",
       "        text-align: right;\n",
       "    }\n",
       "</style>\n",
       "<table border=\"1\" class=\"dataframe\">\n",
       "  <thead>\n",
       "    <tr style=\"text-align: right;\">\n",
       "      <th></th>\n",
       "      <th>date</th>\n",
       "      <th>fire_count</th>\n",
       "      <th>avg_frp</th>\n",
       "    </tr>\n",
       "  </thead>\n",
       "  <tbody>\n",
       "    <tr>\n",
       "      <th>0</th>\n",
       "      <td>2001</td>\n",
       "      <td>73</td>\n",
       "      <td>2765.323077</td>\n",
       "    </tr>\n",
       "    <tr>\n",
       "      <th>1</th>\n",
       "      <td>2002</td>\n",
       "      <td>268</td>\n",
       "      <td>2682.025595</td>\n",
       "    </tr>\n",
       "    <tr>\n",
       "      <th>2</th>\n",
       "      <td>2003</td>\n",
       "      <td>391</td>\n",
       "      <td>2207.810613</td>\n",
       "    </tr>\n",
       "    <tr>\n",
       "      <th>3</th>\n",
       "      <td>2004</td>\n",
       "      <td>131</td>\n",
       "      <td>2340.619209</td>\n",
       "    </tr>\n",
       "    <tr>\n",
       "      <th>4</th>\n",
       "      <td>2005</td>\n",
       "      <td>51</td>\n",
       "      <td>2255.825833</td>\n",
       "    </tr>\n",
       "    <tr>\n",
       "      <th>5</th>\n",
       "      <td>2006</td>\n",
       "      <td>433</td>\n",
       "      <td>2484.444303</td>\n",
       "    </tr>\n",
       "    <tr>\n",
       "      <th>6</th>\n",
       "      <td>2007</td>\n",
       "      <td>921</td>\n",
       "      <td>2673.051990</td>\n",
       "    </tr>\n",
       "    <tr>\n",
       "      <th>7</th>\n",
       "      <td>2008</td>\n",
       "      <td>203</td>\n",
       "      <td>2281.943833</td>\n",
       "    </tr>\n",
       "    <tr>\n",
       "      <th>8</th>\n",
       "      <td>2009</td>\n",
       "      <td>200</td>\n",
       "      <td>2834.168707</td>\n",
       "    </tr>\n",
       "    <tr>\n",
       "      <th>9</th>\n",
       "      <td>2010</td>\n",
       "      <td>12</td>\n",
       "      <td>1857.325000</td>\n",
       "    </tr>\n",
       "    <tr>\n",
       "      <th>10</th>\n",
       "      <td>2011</td>\n",
       "      <td>18</td>\n",
       "      <td>2061.033333</td>\n",
       "    </tr>\n",
       "    <tr>\n",
       "      <th>11</th>\n",
       "      <td>2012</td>\n",
       "      <td>205</td>\n",
       "      <td>2568.307763</td>\n",
       "    </tr>\n",
       "    <tr>\n",
       "      <th>12</th>\n",
       "      <td>2013</td>\n",
       "      <td>348</td>\n",
       "      <td>2410.311031</td>\n",
       "    </tr>\n",
       "    <tr>\n",
       "      <th>13</th>\n",
       "      <td>2014</td>\n",
       "      <td>267</td>\n",
       "      <td>2341.925160</td>\n",
       "    </tr>\n",
       "    <tr>\n",
       "      <th>14</th>\n",
       "      <td>2015</td>\n",
       "      <td>277</td>\n",
       "      <td>2653.135125</td>\n",
       "    </tr>\n",
       "    <tr>\n",
       "      <th>15</th>\n",
       "      <td>2016</td>\n",
       "      <td>309</td>\n",
       "      <td>2613.368299</td>\n",
       "    </tr>\n",
       "    <tr>\n",
       "      <th>16</th>\n",
       "      <td>2017</td>\n",
       "      <td>373</td>\n",
       "      <td>2488.147016</td>\n",
       "    </tr>\n",
       "    <tr>\n",
       "      <th>17</th>\n",
       "      <td>2018</td>\n",
       "      <td>594</td>\n",
       "      <td>2765.978060</td>\n",
       "    </tr>\n",
       "    <tr>\n",
       "      <th>18</th>\n",
       "      <td>2019</td>\n",
       "      <td>102</td>\n",
       "      <td>2635.262449</td>\n",
       "    </tr>\n",
       "    <tr>\n",
       "      <th>19</th>\n",
       "      <td>2020</td>\n",
       "      <td>1651</td>\n",
       "      <td>2504.083252</td>\n",
       "    </tr>\n",
       "  </tbody>\n",
       "</table>\n",
       "</div>"
      ],
      "text/plain": [
       "    date  fire_count      avg_frp\n",
       "0   2001          73  2765.323077\n",
       "1   2002         268  2682.025595\n",
       "2   2003         391  2207.810613\n",
       "3   2004         131  2340.619209\n",
       "4   2005          51  2255.825833\n",
       "5   2006         433  2484.444303\n",
       "6   2007         921  2673.051990\n",
       "7   2008         203  2281.943833\n",
       "8   2009         200  2834.168707\n",
       "9   2010          12  1857.325000\n",
       "10  2011          18  2061.033333\n",
       "11  2012         205  2568.307763\n",
       "12  2013         348  2410.311031\n",
       "13  2014         267  2341.925160\n",
       "14  2015         277  2653.135125\n",
       "15  2016         309  2613.368299\n",
       "16  2017         373  2488.147016\n",
       "17  2018         594  2765.978060\n",
       "18  2019         102  2635.262449\n",
       "19  2020        1651  2504.083252"
      ]
     },
     "execution_count": 11,
     "metadata": {},
     "output_type": "execute_result"
    }
   ],
   "source": [
    "newMerge = pd.merge(counts, avgfrp, on = 'date')\n",
    "newMerge = newMerge.reset_index()\n",
    "newMerge"
   ]
  },
  {
   "cell_type": "code",
   "execution_count": 12,
   "metadata": {},
   "outputs": [
    {
     "data": {
      "text/html": [
       "<div>\n",
       "<style scoped>\n",
       "    .dataframe tbody tr th:only-of-type {\n",
       "        vertical-align: middle;\n",
       "    }\n",
       "\n",
       "    .dataframe tbody tr th {\n",
       "        vertical-align: top;\n",
       "    }\n",
       "\n",
       "    .dataframe thead th {\n",
       "        text-align: right;\n",
       "    }\n",
       "</style>\n",
       "<table border=\"1\" class=\"dataframe\">\n",
       "  <thead>\n",
       "    <tr style=\"text-align: right;\">\n",
       "      <th></th>\n",
       "      <th>date</th>\n",
       "      <th>fire_count</th>\n",
       "    </tr>\n",
       "  </thead>\n",
       "  <tbody>\n",
       "    <tr>\n",
       "      <th>0</th>\n",
       "      <td>2001</td>\n",
       "      <td>73</td>\n",
       "    </tr>\n",
       "    <tr>\n",
       "      <th>1</th>\n",
       "      <td>2002</td>\n",
       "      <td>268</td>\n",
       "    </tr>\n",
       "    <tr>\n",
       "      <th>2</th>\n",
       "      <td>2003</td>\n",
       "      <td>391</td>\n",
       "    </tr>\n",
       "    <tr>\n",
       "      <th>3</th>\n",
       "      <td>2004</td>\n",
       "      <td>131</td>\n",
       "    </tr>\n",
       "    <tr>\n",
       "      <th>4</th>\n",
       "      <td>2005</td>\n",
       "      <td>51</td>\n",
       "    </tr>\n",
       "    <tr>\n",
       "      <th>5</th>\n",
       "      <td>2006</td>\n",
       "      <td>433</td>\n",
       "    </tr>\n",
       "    <tr>\n",
       "      <th>6</th>\n",
       "      <td>2007</td>\n",
       "      <td>921</td>\n",
       "    </tr>\n",
       "    <tr>\n",
       "      <th>7</th>\n",
       "      <td>2008</td>\n",
       "      <td>203</td>\n",
       "    </tr>\n",
       "    <tr>\n",
       "      <th>8</th>\n",
       "      <td>2009</td>\n",
       "      <td>200</td>\n",
       "    </tr>\n",
       "    <tr>\n",
       "      <th>9</th>\n",
       "      <td>2010</td>\n",
       "      <td>12</td>\n",
       "    </tr>\n",
       "    <tr>\n",
       "      <th>10</th>\n",
       "      <td>2011</td>\n",
       "      <td>18</td>\n",
       "    </tr>\n",
       "    <tr>\n",
       "      <th>11</th>\n",
       "      <td>2012</td>\n",
       "      <td>205</td>\n",
       "    </tr>\n",
       "    <tr>\n",
       "      <th>12</th>\n",
       "      <td>2013</td>\n",
       "      <td>348</td>\n",
       "    </tr>\n",
       "    <tr>\n",
       "      <th>13</th>\n",
       "      <td>2014</td>\n",
       "      <td>267</td>\n",
       "    </tr>\n",
       "    <tr>\n",
       "      <th>14</th>\n",
       "      <td>2015</td>\n",
       "      <td>277</td>\n",
       "    </tr>\n",
       "    <tr>\n",
       "      <th>15</th>\n",
       "      <td>2016</td>\n",
       "      <td>309</td>\n",
       "    </tr>\n",
       "    <tr>\n",
       "      <th>16</th>\n",
       "      <td>2017</td>\n",
       "      <td>373</td>\n",
       "    </tr>\n",
       "    <tr>\n",
       "      <th>17</th>\n",
       "      <td>2018</td>\n",
       "      <td>594</td>\n",
       "    </tr>\n",
       "    <tr>\n",
       "      <th>18</th>\n",
       "      <td>2019</td>\n",
       "      <td>102</td>\n",
       "    </tr>\n",
       "    <tr>\n",
       "      <th>19</th>\n",
       "      <td>2020</td>\n",
       "      <td>1651</td>\n",
       "    </tr>\n",
       "  </tbody>\n",
       "</table>\n",
       "</div>"
      ],
      "text/plain": [
       "    date  fire_count\n",
       "0   2001          73\n",
       "1   2002         268\n",
       "2   2003         391\n",
       "3   2004         131\n",
       "4   2005          51\n",
       "5   2006         433\n",
       "6   2007         921\n",
       "7   2008         203\n",
       "8   2009         200\n",
       "9   2010          12\n",
       "10  2011          18\n",
       "11  2012         205\n",
       "12  2013         348\n",
       "13  2014         267\n",
       "14  2015         277\n",
       "15  2016         309\n",
       "16  2017         373\n",
       "17  2018         594\n",
       "18  2019         102\n",
       "19  2020        1651"
      ]
     },
     "execution_count": 12,
     "metadata": {},
     "output_type": "execute_result"
    }
   ],
   "source": [
    "# newMerge['date'] = newMerge['date'].astype(int)\n",
    "newMerge[['date', 'fire_count']]"
   ]
  },
  {
   "cell_type": "code",
   "execution_count": 13,
   "metadata": {},
   "outputs": [
    {
     "data": {
      "text/html": [
       "<style>#sk-container-id-1 {color: black;background-color: white;}#sk-container-id-1 pre{padding: 0;}#sk-container-id-1 div.sk-toggleable {background-color: white;}#sk-container-id-1 label.sk-toggleable__label {cursor: pointer;display: block;width: 100%;margin-bottom: 0;padding: 0.3em;box-sizing: border-box;text-align: center;}#sk-container-id-1 label.sk-toggleable__label-arrow:before {content: \"▸\";float: left;margin-right: 0.25em;color: #696969;}#sk-container-id-1 label.sk-toggleable__label-arrow:hover:before {color: black;}#sk-container-id-1 div.sk-estimator:hover label.sk-toggleable__label-arrow:before {color: black;}#sk-container-id-1 div.sk-toggleable__content {max-height: 0;max-width: 0;overflow: hidden;text-align: left;background-color: #f0f8ff;}#sk-container-id-1 div.sk-toggleable__content pre {margin: 0.2em;color: black;border-radius: 0.25em;background-color: #f0f8ff;}#sk-container-id-1 input.sk-toggleable__control:checked~div.sk-toggleable__content {max-height: 200px;max-width: 100%;overflow: auto;}#sk-container-id-1 input.sk-toggleable__control:checked~label.sk-toggleable__label-arrow:before {content: \"▾\";}#sk-container-id-1 div.sk-estimator input.sk-toggleable__control:checked~label.sk-toggleable__label {background-color: #d4ebff;}#sk-container-id-1 div.sk-label input.sk-toggleable__control:checked~label.sk-toggleable__label {background-color: #d4ebff;}#sk-container-id-1 input.sk-hidden--visually {border: 0;clip: rect(1px 1px 1px 1px);clip: rect(1px, 1px, 1px, 1px);height: 1px;margin: -1px;overflow: hidden;padding: 0;position: absolute;width: 1px;}#sk-container-id-1 div.sk-estimator {font-family: monospace;background-color: #f0f8ff;border: 1px dotted black;border-radius: 0.25em;box-sizing: border-box;margin-bottom: 0.5em;}#sk-container-id-1 div.sk-estimator:hover {background-color: #d4ebff;}#sk-container-id-1 div.sk-parallel-item::after {content: \"\";width: 100%;border-bottom: 1px solid gray;flex-grow: 1;}#sk-container-id-1 div.sk-label:hover label.sk-toggleable__label {background-color: #d4ebff;}#sk-container-id-1 div.sk-serial::before {content: \"\";position: absolute;border-left: 1px solid gray;box-sizing: border-box;top: 0;bottom: 0;left: 50%;z-index: 0;}#sk-container-id-1 div.sk-serial {display: flex;flex-direction: column;align-items: center;background-color: white;padding-right: 0.2em;padding-left: 0.2em;position: relative;}#sk-container-id-1 div.sk-item {position: relative;z-index: 1;}#sk-container-id-1 div.sk-parallel {display: flex;align-items: stretch;justify-content: center;background-color: white;position: relative;}#sk-container-id-1 div.sk-item::before, #sk-container-id-1 div.sk-parallel-item::before {content: \"\";position: absolute;border-left: 1px solid gray;box-sizing: border-box;top: 0;bottom: 0;left: 50%;z-index: -1;}#sk-container-id-1 div.sk-parallel-item {display: flex;flex-direction: column;z-index: 1;position: relative;background-color: white;}#sk-container-id-1 div.sk-parallel-item:first-child::after {align-self: flex-end;width: 50%;}#sk-container-id-1 div.sk-parallel-item:last-child::after {align-self: flex-start;width: 50%;}#sk-container-id-1 div.sk-parallel-item:only-child::after {width: 0;}#sk-container-id-1 div.sk-dashed-wrapped {border: 1px dashed gray;margin: 0 0.4em 0.5em 0.4em;box-sizing: border-box;padding-bottom: 0.4em;background-color: white;}#sk-container-id-1 div.sk-label label {font-family: monospace;font-weight: bold;display: inline-block;line-height: 1.2em;}#sk-container-id-1 div.sk-label-container {text-align: center;}#sk-container-id-1 div.sk-container {/* jupyter's `normalize.less` sets `[hidden] { display: none; }` but bootstrap.min.css set `[hidden] { display: none !important; }` so we also need the `!important` here to be able to override the default hidden behavior on the sphinx rendered scikit-learn.org. See: https://github.com/scikit-learn/scikit-learn/issues/21755 */display: inline-block !important;position: relative;}#sk-container-id-1 div.sk-text-repr-fallback {display: none;}</style><div id=\"sk-container-id-1\" class=\"sk-top-container\"><div class=\"sk-text-repr-fallback\"><pre>LinearRegression()</pre><b>In a Jupyter environment, please rerun this cell to show the HTML representation or trust the notebook. <br />On GitHub, the HTML representation is unable to render, please try loading this page with nbviewer.org.</b></div><div class=\"sk-container\" hidden><div class=\"sk-item\"><div class=\"sk-estimator sk-toggleable\"><input class=\"sk-toggleable__control sk-hidden--visually\" id=\"sk-estimator-id-1\" type=\"checkbox\" checked><label for=\"sk-estimator-id-1\" class=\"sk-toggleable__label sk-toggleable__label-arrow\">LinearRegression</label><div class=\"sk-toggleable__content\"><pre>LinearRegression()</pre></div></div></div></div></div>"
      ],
      "text/plain": [
       "LinearRegression()"
      ]
     },
     "execution_count": 13,
     "metadata": {},
     "output_type": "execute_result"
    }
   ],
   "source": [
    "model = LinearRegression()\n",
    "x = newMerge.drop(columns = ['fire_count'])\n",
    "y = newMerge['fire_count']\n",
    "model.fit(x, y)"
   ]
  },
  {
   "cell_type": "code",
   "execution_count": 14,
   "metadata": {},
   "outputs": [
    {
     "data": {
      "text/plain": [
       "0.17991108030702474"
      ]
     },
     "execution_count": 14,
     "metadata": {},
     "output_type": "execute_result"
    }
   ],
   "source": [
    "model.score(x, y)"
   ]
  },
  {
   "cell_type": "code",
   "execution_count": 15,
   "metadata": {},
   "outputs": [
    {
     "ename": "NameError",
     "evalue": "name 'yhat' is not defined",
     "output_type": "error",
     "traceback": [
      "\u001b[1;31m---------------------------------------------------------------------------\u001b[0m",
      "\u001b[1;31mNameError\u001b[0m                                 Traceback (most recent call last)",
      "\u001b[1;32mc:\\Users\\azaan\\OneDrive\\Documents\\GitHub\\Data-Nerds\\data_analysis.ipynb Cell 15\u001b[0m in \u001b[0;36m1\n\u001b[1;32m----> <a href='vscode-notebook-cell:/c%3A/Users/azaan/OneDrive/Documents/GitHub/Data-Nerds/data_analysis.ipynb#X20sZmlsZQ%3D%3D?line=0'>1</a>\u001b[0m \u001b[39mlen\u001b[39m(yhat)\n",
      "\u001b[1;31mNameError\u001b[0m: name 'yhat' is not defined"
     ]
    }
   ],
   "source": [
    "len(yhat)"
   ]
  },
  {
   "cell_type": "code",
   "execution_count": null,
   "metadata": {},
   "outputs": [],
   "source": [
    "yhat = model.predict(x)\n",
    "y = y.to_numpy()\n",
    "#print(yhat, y)\n",
    "#print(accuracy_score(yhat, y))"
   ]
  },
  {
   "cell_type": "code",
   "execution_count": null,
   "metadata": {},
   "outputs": [
    {
     "name": "stdout",
     "output_type": "stream",
     "text": [
      "<class 'numpy.float64'>\n"
     ]
    }
   ],
   "source": [
    "print(type(yhat[0]))"
   ]
  },
  {
   "cell_type": "code",
   "execution_count": 257,
   "metadata": {},
   "outputs": [],
   "source": [
    "# metrics to measure stuff\n",
    "from sklearn.metrics import *\n",
    "from sklearn.metrics import precision_score, r2_score, mean_squared_error, recall_score, accuracy_score, f1_score\n",
    "\n",
    "\n",
    "def classification_metrics(Y_pred, Y_true):\n",
    "    accuracy, precision, recall, f1score = accuracy_score(Y_true, Y_pred), \\\n",
    "                                           precision_score(Y_true, Y_pred, average='weighted', zero_division=0), \\\n",
    "                                           recall_score(Y_true, Y_pred, average='weighted', zero_division=0), \\\n",
    "                                           f1_score(Y_true, Y_pred, average='weighted')\n",
    "    return precision, accuracy, recall, f1score\n",
    "\n",
    "def regression_metrics(Y_pred, Y_true):\n",
    "    r2, mse, rmse = r2_score(Y_true, Y_pred), \\\n",
    "                    mean_squared_error(Y_true, Y_pred, squared=False), \\\n",
    "                    mean_squared_error(Y_true, Y_pred, squared=True)\n",
    "    return r2, mse, rmse"
   ]
  },
  {
   "cell_type": "code",
   "execution_count": null,
   "metadata": {},
   "outputs": [
    {
     "name": "stdout",
     "output_type": "stream",
     "text": [
      "20\n",
      "20\n"
     ]
    }
   ],
   "source": [
    "len(yhat) == len(y)\n",
    "print(len(yhat))\n",
    "print(len(y))"
   ]
  },
  {
   "cell_type": "code",
   "execution_count": null,
   "metadata": {},
   "outputs": [
    {
     "name": "stdout",
     "output_type": "stream",
     "text": [
      "(0.17991108030702474, 330.97985507099503, 109547.66446281687)\n"
     ]
    }
   ],
   "source": [
    "print(regression_metrics(yhat, y))"
   ]
  },
  {
   "cell_type": "code",
   "execution_count": null,
   "metadata": {},
   "outputs": [],
   "source": [
    "accuracy_score\n",
    "f1_score\n",
    "precision_score"
   ]
  },
  {
   "cell_type": "code",
   "execution_count": null,
   "metadata": {},
   "outputs": [
    {
     "data": {
      "image/png": "[encoded data removed]",
      "text/plain": [
       "<Figure size 640x480 with 1 Axes>"
      ]
     },
     "metadata": {},
     "output_type": "display_data"
    }
   ],
   "source": [
    "plt.plot(data.groupby(data['date'].dt.year)['mean_temp'].mean())\n",
    "# get graph of derivative\n",
    "plt.show()"
   ]
  },
  {
   "cell_type": "code",
   "execution_count": 161,
   "metadata": {},
   "outputs": [
    {
     "data": {
      "image/png": "[encoded data removed]",
      "text/plain": [
       "<Figure size 640x480 with 1 Axes>"
      ]
     },
     "metadata": {},
     "output_type": "display_data"
    }
   ],
   "source": [
    "plt.plot(data.groupby(data['date'].dt.year)['mean_temp'].mean())\n",
    "# get graph of derivative\n",
    "plt.show()"
   ]
  },
  {
   "cell_type": "code",
   "execution_count": 162,
   "metadata": {},
   "outputs": [
    {
     "data": {
      "image/png": "[encoded data removed]",
      "text/plain": [
       "<Figure size 640x480 with 1 Axes>"
      ]
     },
     "metadata": {},
     "output_type": "display_data"
    }
   ],
   "source": [
    "plt.plot(data.groupby(data['date'].dt.year)['max_temp'].mean())\n",
    "# get graph of derivative\n",
    "plt.show()"
   ]
  },
  {
   "cell_type": "code",
   "execution_count": 164,
   "metadata": {},
   "outputs": [
    {
     "data": {
      "image/png": "[encoded data removed]",
      "text/plain": [
       "<Figure size 640x480 with 1 Axes>"
      ]
     },
     "metadata": {},
     "output_type": "display_data"
    }
   ],
   "source": [
    "plt.plot(data.groupby(data['date'].dt.year)[' min_temp'].mean())\n",
    "# get graph of derivative\n",
    "plt.show()"
   ]
  },
  {
   "attachments": {},
   "cell_type": "markdown",
   "metadata": {},
   "source": [
    "## Descriptive analysis"
   ]
  },
  {
   "cell_type": "code",
   "execution_count": 221,
   "metadata": {},
   "outputs": [],
   "source": [
    "# Descriptive analysis -- lets import first\n",
    "\n",
    "from sklearn import preprocessing\n",
    "from sklearn.preprocessing import OrdinalEncoder, StandardScaler\n",
    "from sklearn.model_selection import train_test_split, KFold, GridSearchCV\n",
    "from sklearn.linear_model import LogisticRegression\n",
    "from sklearn.decomposition import PCA\n",
    "from sklearn.metrics import accuracy_score, cohen_kappa_score, make_scorer\n",
    "from sklearn.ensemble import RandomForestClassifier, RandomForestRegressor\n",
    "from sklearn.metrics import classification_report, confusion_matrix\n",
    "import scipy.stats as stats"
   ]
  },
  {
   "cell_type": "code",
   "execution_count": 166,
   "metadata": {},
   "outputs": [
    {
     "data": {
      "text/html": [
       "<div>\n",
       "<style scoped>\n",
       "    .dataframe tbody tr th:only-of-type {\n",
       "        vertical-align: middle;\n",
       "    }\n",
       "\n",
       "    .dataframe tbody tr th {\n",
       "        vertical-align: top;\n",
       "    }\n",
       "\n",
       "    .dataframe thead th {\n",
       "        text-align: right;\n",
       "    }\n",
       "</style>\n",
       "<table border=\"1\" class=\"dataframe\">\n",
       "  <thead>\n",
       "    <tr style=\"text-align: right;\">\n",
       "      <th></th>\n",
       "      <th>Unnamed: 0_x</th>\n",
       "      <th>date</th>\n",
       "      <th>latitude</th>\n",
       "      <th>longitude</th>\n",
       "      <th>satellite</th>\n",
       "      <th>instrument</th>\n",
       "      <th>avg_frp</th>\n",
       "      <th>surface_temp</th>\n",
       "      <th>confidence</th>\n",
       "      <th>fire_count</th>\n",
       "      <th>city</th>\n",
       "      <th>Unnamed: 0_y</th>\n",
       "      <th>max_temp</th>\n",
       "      <th>rain</th>\n",
       "    </tr>\n",
       "  </thead>\n",
       "  <tbody>\n",
       "    <tr>\n",
       "      <th>0</th>\n",
       "      <td>0</td>\n",
       "      <td>2001-01-03</td>\n",
       "      <td>32.802675</td>\n",
       "      <td>-116.687525</td>\n",
       "      <td>1.000000</td>\n",
       "      <td>1.0</td>\n",
       "      <td>1447.000000</td>\n",
       "      <td>324.825000</td>\n",
       "      <td>100.0</td>\n",
       "      <td>4</td>\n",
       "      <td>1</td>\n",
       "      <td>308</td>\n",
       "      <td>80.0</td>\n",
       "      <td>0.00</td>\n",
       "    </tr>\n",
       "    <tr>\n",
       "      <th>1</th>\n",
       "      <td>1</td>\n",
       "      <td>2001-05-27</td>\n",
       "      <td>39.984300</td>\n",
       "      <td>-119.658350</td>\n",
       "      <td>1.000000</td>\n",
       "      <td>1.0</td>\n",
       "      <td>959.850000</td>\n",
       "      <td>297.450000</td>\n",
       "      <td>100.0</td>\n",
       "      <td>2</td>\n",
       "      <td>2</td>\n",
       "      <td>452</td>\n",
       "      <td>63.0</td>\n",
       "      <td>0.00</td>\n",
       "    </tr>\n",
       "    <tr>\n",
       "      <th>2</th>\n",
       "      <td>2</td>\n",
       "      <td>2001-06-03</td>\n",
       "      <td>32.707500</td>\n",
       "      <td>-115.162300</td>\n",
       "      <td>1.000000</td>\n",
       "      <td>1.0</td>\n",
       "      <td>707.400000</td>\n",
       "      <td>322.200000</td>\n",
       "      <td>100.0</td>\n",
       "      <td>1</td>\n",
       "      <td>1</td>\n",
       "      <td>459</td>\n",
       "      <td>74.0</td>\n",
       "      <td>0.00</td>\n",
       "    </tr>\n",
       "    <tr>\n",
       "      <th>3</th>\n",
       "      <td>3</td>\n",
       "      <td>2001-07-27</td>\n",
       "      <td>38.610733</td>\n",
       "      <td>-119.633900</td>\n",
       "      <td>1.000000</td>\n",
       "      <td>1.0</td>\n",
       "      <td>1637.066667</td>\n",
       "      <td>321.933333</td>\n",
       "      <td>100.0</td>\n",
       "      <td>3</td>\n",
       "      <td>2</td>\n",
       "      <td>513</td>\n",
       "      <td>64.0</td>\n",
       "      <td>0.00</td>\n",
       "    </tr>\n",
       "    <tr>\n",
       "      <th>4</th>\n",
       "      <td>4</td>\n",
       "      <td>2001-08-05</td>\n",
       "      <td>41.754400</td>\n",
       "      <td>-114.269500</td>\n",
       "      <td>1.000000</td>\n",
       "      <td>1.0</td>\n",
       "      <td>780.700000</td>\n",
       "      <td>325.800000</td>\n",
       "      <td>100.0</td>\n",
       "      <td>1</td>\n",
       "      <td>2</td>\n",
       "      <td>522</td>\n",
       "      <td>69.0</td>\n",
       "      <td>0.00</td>\n",
       "    </tr>\n",
       "    <tr>\n",
       "      <th>...</th>\n",
       "      <td>...</td>\n",
       "      <td>...</td>\n",
       "      <td>...</td>\n",
       "      <td>...</td>\n",
       "      <td>...</td>\n",
       "      <td>...</td>\n",
       "      <td>...</td>\n",
       "      <td>...</td>\n",
       "      <td>...</td>\n",
       "      <td>...</td>\n",
       "      <td>...</td>\n",
       "      <td>...</td>\n",
       "      <td>...</td>\n",
       "      <td>...</td>\n",
       "    </tr>\n",
       "    <tr>\n",
       "      <th>854</th>\n",
       "      <td>857</td>\n",
       "      <td>2020-10-20</td>\n",
       "      <td>37.426400</td>\n",
       "      <td>-119.109900</td>\n",
       "      <td>2.000000</td>\n",
       "      <td>1.0</td>\n",
       "      <td>1874.700000</td>\n",
       "      <td>304.600000</td>\n",
       "      <td>100.0</td>\n",
       "      <td>1</td>\n",
       "      <td>2</td>\n",
       "      <td>7538</td>\n",
       "      <td>74.0</td>\n",
       "      <td>0.00</td>\n",
       "    </tr>\n",
       "    <tr>\n",
       "      <th>855</th>\n",
       "      <td>858</td>\n",
       "      <td>2020-10-21</td>\n",
       "      <td>37.407700</td>\n",
       "      <td>-119.075600</td>\n",
       "      <td>2.000000</td>\n",
       "      <td>1.0</td>\n",
       "      <td>754.050000</td>\n",
       "      <td>317.050000</td>\n",
       "      <td>100.0</td>\n",
       "      <td>2</td>\n",
       "      <td>2</td>\n",
       "      <td>7539</td>\n",
       "      <td>75.0</td>\n",
       "      <td>0.00</td>\n",
       "    </tr>\n",
       "    <tr>\n",
       "      <th>856</th>\n",
       "      <td>859</td>\n",
       "      <td>2020-10-24</td>\n",
       "      <td>37.394350</td>\n",
       "      <td>-119.117900</td>\n",
       "      <td>2.000000</td>\n",
       "      <td>1.0</td>\n",
       "      <td>1164.600000</td>\n",
       "      <td>295.450000</td>\n",
       "      <td>100.0</td>\n",
       "      <td>2</td>\n",
       "      <td>2</td>\n",
       "      <td>7542</td>\n",
       "      <td>66.0</td>\n",
       "      <td>0.00</td>\n",
       "    </tr>\n",
       "    <tr>\n",
       "      <th>857</th>\n",
       "      <td>860</td>\n",
       "      <td>2020-10-26</td>\n",
       "      <td>36.202667</td>\n",
       "      <td>-118.648550</td>\n",
       "      <td>1.333333</td>\n",
       "      <td>1.0</td>\n",
       "      <td>1346.283333</td>\n",
       "      <td>304.916667</td>\n",
       "      <td>100.0</td>\n",
       "      <td>6</td>\n",
       "      <td>1</td>\n",
       "      <td>7544</td>\n",
       "      <td>73.0</td>\n",
       "      <td>0.00</td>\n",
       "    </tr>\n",
       "    <tr>\n",
       "      <th>858</th>\n",
       "      <td>861</td>\n",
       "      <td>2020-11-18</td>\n",
       "      <td>38.544150</td>\n",
       "      <td>-119.393950</td>\n",
       "      <td>1.000000</td>\n",
       "      <td>1.0</td>\n",
       "      <td>1172.175000</td>\n",
       "      <td>289.100000</td>\n",
       "      <td>100.0</td>\n",
       "      <td>4</td>\n",
       "      <td>2</td>\n",
       "      <td>7567</td>\n",
       "      <td>63.0</td>\n",
       "      <td>0.11</td>\n",
       "    </tr>\n",
       "  </tbody>\n",
       "</table>\n",
       "<p>859 rows × 14 columns</p>\n",
       "</div>"
      ],
      "text/plain": [
       "     Unnamed: 0_x       date   latitude   longitude  satellite  instrument  \\\n",
       "0               0 2001-01-03  32.802675 -116.687525   1.000000         1.0   \n",
       "1               1 2001-05-27  39.984300 -119.658350   1.000000         1.0   \n",
       "2               2 2001-06-03  32.707500 -115.162300   1.000000         1.0   \n",
       "3               3 2001-07-27  38.610733 -119.633900   1.000000         1.0   \n",
       "4               4 2001-08-05  41.754400 -114.269500   1.000000         1.0   \n",
       "..            ...        ...        ...         ...        ...         ...   \n",
       "854           857 2020-10-20  37.426400 -119.109900   2.000000         1.0   \n",
       "855           858 2020-10-21  37.407700 -119.075600   2.000000         1.0   \n",
       "856           859 2020-10-24  37.394350 -119.117900   2.000000         1.0   \n",
       "857           860 2020-10-26  36.202667 -118.648550   1.333333         1.0   \n",
       "858           861 2020-11-18  38.544150 -119.393950   1.000000         1.0   \n",
       "\n",
       "         avg_frp  surface_temp  confidence  fire_count  city  Unnamed: 0_y  \\\n",
       "0    1447.000000    324.825000       100.0           4     1           308   \n",
       "1     959.850000    297.450000       100.0           2     2           452   \n",
       "2     707.400000    322.200000       100.0           1     1           459   \n",
       "3    1637.066667    321.933333       100.0           3     2           513   \n",
       "4     780.700000    325.800000       100.0           1     2           522   \n",
       "..           ...           ...         ...         ...   ...           ...   \n",
       "854  1874.700000    304.600000       100.0           1     2          7538   \n",
       "855   754.050000    317.050000       100.0           2     2          7539   \n",
       "856  1164.600000    295.450000       100.0           2     2          7542   \n",
       "857  1346.283333    304.916667       100.0           6     1          7544   \n",
       "858  1172.175000    289.100000       100.0           4     2          7567   \n",
       "\n",
       "     max_temp  rain  \n",
       "0        80.0  0.00  \n",
       "1        63.0  0.00  \n",
       "2        74.0  0.00  \n",
       "3        64.0  0.00  \n",
       "4        69.0  0.00  \n",
       "..        ...   ...  \n",
       "854      74.0  0.00  \n",
       "855      75.0  0.00  \n",
       "856      66.0  0.00  \n",
       "857      73.0  0.00  \n",
       "858      63.0  0.11  \n",
       "\n",
       "[859 rows x 14 columns]"
      ]
     },
     "execution_count": 166,
     "metadata": {},
     "output_type": "execute_result"
    }
   ],
   "source": [
    "# after seeing correlation matrix I want to drop min and mean temp\n",
    "data.drop(columns=[' min_temp', 'mean_temp'], inplace=True)\n",
    "data"
   ]
  },
  {
   "cell_type": "code",
   "execution_count": 167,
   "metadata": {},
   "outputs": [
    {
     "name": "stderr",
     "output_type": "stream",
     "text": [
      "C:\\Users\\azaan\\AppData\\Local\\Temp\\ipykernel_41568\\2006559383.py:2: FutureWarning: The default value of numeric_only in DataFrame.corr is deprecated. In a future version, it will default to False. Select only valid columns or specify the value of numeric_only to silence this warning.\n",
      "  corr_matrix = data.corr()\n",
      "C:\\Users\\azaan\\AppData\\Local\\Temp\\ipykernel_41568\\2006559383.py:5: DeprecationWarning: `np.bool` is a deprecated alias for the builtin `bool`. To silence this warning, use `bool` by itself. Doing this will not modify any behavior and is safe. If you specifically wanted the numpy scalar type, use `np.bool_` here.\n",
      "Deprecated in NumPy 1.20; for more details and guidance: https://numpy.org/devdocs/release/1.20.0-notes.html#deprecations\n",
      "  mask = np.zeros_like(corr_matrix, dtype=np.bool)\n"
     ]
    },
    {
     "data": {
      "text/plain": [
       "<AxesSubplot: >"
      ]
     },
     "execution_count": 167,
     "metadata": {},
     "output_type": "execute_result"
    },
    {
     "data": {
      "image/png": "[encoded data removed]",
      "text/plain": [
       "<Figure size 1100x900 with 2 Axes>"
      ]
     },
     "metadata": {},
     "output_type": "display_data"
    }
   ],
   "source": [
    "#correlation matrix\n",
    "corr_matrix = data.corr()\n",
    "\n",
    "#generate mask for upper triangle\n",
    "mask = np.zeros_like(corr_matrix, dtype=np.bool)\n",
    "mask[np.triu_indices_from(mask)] = True\n",
    "\n",
    "#set up matplotlib figure\n",
    "f, ax = plt.subplots(figsize=(11,9))\n",
    "\n",
    "#generate diverging colormap\n",
    "cmap = sn.diverging_palette(220, 10, as_cmap=True)\n",
    "\n",
    "#draw heatmap with mask and correct aspect ratio\n",
    "sn.heatmap(corr_matrix, mask=mask, cmap=cmap, vmax=.3, center=0, square=True, linewidths=0.5, cbar_kws={\"shrink\": 0.5})"
   ]
  },
  {
   "cell_type": "code",
   "execution_count": 168,
   "metadata": {},
   "outputs": [
    {
     "data": {
      "text/plain": [
       "Unnamed: 0_x             int64\n",
       "date            datetime64[ns]\n",
       "latitude               float64\n",
       "longitude              float64\n",
       "satellite              float64\n",
       "instrument             float64\n",
       "avg_frp                float64\n",
       "surface_temp           float64\n",
       "confidence             float64\n",
       "fire_count               int64\n",
       "city                     int64\n",
       "Unnamed: 0_y             int64\n",
       "max_temp               float64\n",
       "rain                   float64\n",
       "dtype: object"
      ]
     },
     "execution_count": 168,
     "metadata": {},
     "output_type": "execute_result"
    }
   ],
   "source": [
    "data.dtypes"
   ]
  },
  {
   "cell_type": "code",
   "execution_count": 169,
   "metadata": {},
   "outputs": [
    {
     "name": "stdout",
     "output_type": "stream",
     "text": [
      "(859, 12)\n",
      "(859, 5)\n",
      "5\n",
      "[0.26465734 0.1664484  0.114626   0.09644437 0.09270553]\n"
     ]
    }
   ],
   "source": [
    "# So not much correlated, let's run PCA\n",
    "\n",
    "seed = 25\n",
    "scaler = StandardScaler()\n",
    "scaled_data = data.drop(columns=['date'])\n",
    "pca_data = pd.DataFrame(scaler.fit_transform(scaled_data), index=scaled_data.index, columns=scaled_data.columns)\n",
    "# print(pca_data)\n",
    "x = pca_data.drop(['fire_count'], axis=1)\n",
    "y = pca_data['fire_count']\n",
    "pca = PCA(5, random_state=seed)\n",
    "\n",
    "x_pca = pca.fit_transform(x)\n",
    "# see difference in number of columns\n",
    "print(x.shape)     # 12 columns\n",
    "print(x_pca.shape) # 10 columns\n",
    "# can also use this\n",
    "print(pca.n_components_)\n",
    "\n",
    "# to see importance of each new column in the PCA x\n",
    "# print(scaled_data.columns)\n",
    "print(pca.explained_variance_ratio_)"
   ]
  },
  {
   "cell_type": "code",
   "execution_count": 170,
   "metadata": {},
   "outputs": [
    {
     "data": {
      "text/plain": [
       "16.7133710936963"
      ]
     },
     "execution_count": 170,
     "metadata": {},
     "output_type": "execute_result"
    }
   ],
   "source": [
    "# get PCA x and make into df\n",
    "pca_df = pd.DataFrame(data = x_pca,\n",
    "                            columns = ['PCA 1', 'PCA 2', 'PCA 3', 'PCA 4', 'PCA 5'])\n",
    "pca_final_df = pd.concat([pca_df, y], axis = 1)\n",
    "pca_final_df['fire_count'].max()\n",
    "# pca_data['avg_frp'].median()"
   ]
  },
  {
   "cell_type": "code",
   "execution_count": 171,
   "metadata": {},
   "outputs": [
    {
     "data": {
      "text/plain": [
       "14"
      ]
     },
     "execution_count": 171,
     "metadata": {},
     "output_type": "execute_result"
    }
   ],
   "source": [
    "len(data.columns)"
   ]
  },
  {
   "cell_type": "code",
   "execution_count": 172,
   "metadata": {},
   "outputs": [
    {
     "name": "stdout",
     "output_type": "stream",
     "text": [
      "3368.3131976693076 0.0\n"
     ]
    }
   ],
   "source": [
    "# from PCA we can tell that not 1 single column is that strongly correlated\n",
    "# now I will try and use ANOVA\n",
    "\n",
    "\n",
    "fvalue, pvalue = stats.f_oneway(scaled_data[scaled_data.columns[0]], scaled_data[scaled_data.columns[1]], scaled_data[scaled_data.columns[2]], scaled_data[scaled_data.columns[3]], scaled_data[scaled_data.columns[4]],\n",
    "                                     scaled_data[scaled_data.columns[5]], scaled_data[scaled_data.columns[6]], scaled_data[scaled_data.columns[7]], scaled_data[scaled_data.columns[8]], scaled_data[scaled_data.columns[9]], \n",
    "                                     scaled_data[scaled_data.columns[10]])\n",
    "print(fvalue, pvalue)"
   ]
  },
  {
   "cell_type": "code",
   "execution_count": 173,
   "metadata": {},
   "outputs": [
    {
     "data": {
      "text/plain": [
       "Index(['Unnamed: 0_x', 'date', 'latitude', 'longitude', 'satellite',\n",
       "       'instrument', 'avg_frp', 'surface_temp', 'confidence', 'fire_count',\n",
       "       'city', 'Unnamed: 0_y', 'max_temp', 'rain'],\n",
       "      dtype='object')"
      ]
     },
     "execution_count": 173,
     "metadata": {},
     "output_type": "execute_result"
    }
   ],
   "source": [
    "# Can tell data is significant bease, P < 0.05 and F is large\n",
    "data.columns"
   ]
  },
  {
   "attachments": {},
   "cell_type": "markdown",
   "metadata": {},
   "source": [
    "## Modelling"
   ]
  },
  {
   "cell_type": "code",
   "execution_count": 174,
   "metadata": {},
   "outputs": [],
   "source": [
    "from sklearn.linear_model import LogisticRegression\n",
    "from sklearn.metrics import classification_report, confusion_matrix"
   ]
  },
  {
   "cell_type": "code",
   "execution_count": 198,
   "metadata": {},
   "outputs": [
    {
     "name": "stdout",
     "output_type": "stream",
     "text": [
      "---- Unnamed: 0_x ---\n",
      "859\n",
      "---- date ---\n",
      "859\n",
      "---- latitude ---\n",
      "859\n",
      "---- longitude ---\n",
      "858\n",
      "---- satellite ---\n",
      "138\n",
      "---- instrument ---\n",
      "1\n",
      "---- avg_frp ---\n",
      "857\n",
      "---- surface_temp ---\n",
      "751\n",
      "---- confidence ---\n",
      "126\n",
      "---- fire_count ---\n",
      "60\n",
      "---- city ---\n",
      "2\n",
      "---- Unnamed: 0_y ---\n",
      "859\n",
      "---- max_temp ---\n",
      "50\n",
      "---- rain ---\n",
      "13\n"
     ]
    }
   ],
   "source": [
    "for c in data.columns:\n",
    "    print(\"---- %s ---\" % c)\n",
    "    print(len(data[c].value_counts()))"
   ]
  },
  {
   "cell_type": "code",
   "execution_count": null,
   "metadata": {},
   "outputs": [],
   "source": [
    "data = data.drop(columns=[decision_variable, 'date', 'instrument','city'])"
   ]
  },
  {
   "cell_type": "code",
   "execution_count": 418,
   "metadata": {},
   "outputs": [],
   "source": [
    "#globals\n",
    "from sklearn.model_selection import StratifiedKFold, KFold, GridSearchCV\n",
    "seed = 25\n",
    "\n",
    "def train_test_splitting(data, decision_variable = 'fire_count', test_size=0.3, seed=seed, scale_data=False):\n",
    "\n",
    "    # x and y\n",
    "    # if len(data.columns) > 10:\n",
    "    #     x = data.drop(columns=[decision_variable, 'date', 'instrument','city'])\n",
    "    # else:\n",
    "    date = data[['date', 'record_#']].copy(deep=True)\n",
    "    x = data.drop(columns=[decision_variable, 'date'])\n",
    "    y = data[decision_variable]\n",
    "\n",
    "    if scale_data==True:\n",
    "        scaler = StandardScaler()\n",
    "        x = scaler.fit_transform(x)\n",
    "    \n",
    "    #declare training splits\n",
    "    X_train, X_test, y_train, y_test = train_test_split(x, y, test_size=test_size, random_state=seed)\n",
    "    return X_train, X_test, y_train, y_test, date"
   ]
  },
  {
   "cell_type": "code",
   "execution_count": 365,
   "metadata": {},
   "outputs": [
    {
     "data": {
      "text/plain": [
       "Index(['record_#', 'date', 'latitude', 'longitude', 'satellite', 'avg_frp',\n",
       "       'surface_temp', 'confidence', 'fire_count', 'city', 'max_temp', 'rain'],\n",
       "      dtype='object')"
      ]
     },
     "execution_count": 365,
     "metadata": {},
     "output_type": "execute_result"
    }
   ],
   "source": [
    "data.columns"
   ]
  },
  {
   "cell_type": "code",
   "execution_count": 378,
   "metadata": {},
   "outputs": [],
   "source": [
    "# use logistic regression and see results\n",
    "def log_regression(X_train, X_test, y_train, y_test):\n",
    "    model = LogisticRegression(solver='liblinear', random_state=seed)\n",
    "    model.fit(X_train, y_train)\n",
    "    y_pred = model.predict(X_test)\n",
    "\n",
    "    # r2, mse, rmse\n",
    "    print(regression_metrics(y_test, y_pred))\n",
    "\n",
    "    # return y_pred\n",
    "    return y_pred"
   ]
  },
  {
   "cell_type": "code",
   "execution_count": 379,
   "metadata": {},
   "outputs": [
    {
     "name": "stdout",
     "output_type": "stream",
     "text": [
      "(-0.41575528704611964, 30.172501470067747, 910.3798449612403)\n"
     ]
    }
   ],
   "source": [
    "X_train, X_test, y_train, y_test = train_test_splitting(data)\n",
    "log_pred = log_regression(X_train, X_test, y_train, y_test)"
   ]
  },
  {
   "cell_type": "code",
   "execution_count": 368,
   "metadata": {},
   "outputs": [
    {
     "data": {
      "text/plain": [
       "pandas.core.frame.DataFrame"
      ]
     },
     "execution_count": 368,
     "metadata": {},
     "output_type": "execute_result"
    }
   ],
   "source": [
    "# logistic regression is pretty trash let's use something else"
   ]
  },
  {
   "cell_type": "code",
   "execution_count": 419,
   "metadata": {},
   "outputs": [],
   "source": [
    "def rand_forest_classifier(X_train, X_test, y_train, y_test, hyper_tuning = False):\n",
    "\n",
    "    k = 0\n",
    "\n",
    "    if hyper_tuning == True:\n",
    "        hyperparam_grid = {'n_estimators': [3, 100, 1000],\n",
    "            'max_features': [0.05, 0.5, 0.95],\n",
    "            'max_depth': [10, 50, 100, None]}\n",
    "\n",
    "        grid_scorer = make_scorer(cohen_kappa_score)\n",
    "        rand_forest = GridSearchCV(RandomForestClassifier(), hyperparam_grid, cv=kf, scoring=grid_scorer)\n",
    "        rand_forest.fit(x, y)\n",
    "\n",
    "        print('best score'. rand_forest.best_score_)\n",
    "        print('best params', rand_forest.best_params_)\n",
    "        k = rand_forest.best_params_\n",
    "\n",
    "    # Using Random Forest\n",
    "    if k == 0:\n",
    "        rand_forest = RandomForestClassifier()\n",
    "    else:\n",
    "        rand_forest = RandomForestClassifier(k)\n",
    "    rand_forest.fit(X_train, y_train)\n",
    "    y_pred = rand_forest.predict(X_test)\n",
    "\n",
    "    acc_score = accuracy_score(y_test, y_pred)\n",
    "    baseline_acc = len(y_test[y_test == 0]) / len(y_test)\n",
    "    cohens_score = cohen_kappa_score(y_test, y_pred)\n",
    "    print('baseline accuracy', baseline_acc)\n",
    "    print('cohens score', cohens_score)\n",
    "\n",
    "    #classification score\n",
    "    #accuracy, precision, recall, f1score\n",
    "    print('classification metrics (accuracy, precision, recall, f1score)', classification_metrics(y_pred, y_test))\n",
    "    print('regression metrics (r2, mse, rmse)', regression_metrics(y_pred, y_test))\n",
    "        \n",
    "    # return y_pred\n",
    "    return y_pred"
   ]
  },
  {
   "cell_type": "code",
   "execution_count": 420,
   "metadata": {},
   "outputs": [],
   "source": [
    "def k_folding(X_train, X_test, y_train, y_test, num_splits = 10, hyper_tuning = False):\n",
    "    from sklearn.model_selection import StratifiedKFold\n",
    "    fold_perf = []\n",
    "\n",
    "    kf = StratifiedKFold(n_splits=num_splits, shuffle=True)\n",
    "    for train_index, test_index in kf.split(x, y):\n",
    "        X_train, X_test = x.iloc[train_index], x.iloc[test_index]\n",
    "        y_train, y_test = y.iloc[train_index], y.iloc[test_index]\n",
    "        \n",
    "        y_pred = rand_forest_classifier(X_train, X_test, y_train, y_test, hyper_tuning)\n",
    "\n",
    "        acc_score = accuracy_score(y_test, y_pred)\n",
    "        r2 = r2_score(y_test, y_pred)\n",
    "        fold_perf.append(r2)\n",
    "        # print('class metrics', classification_metrics(y_pred, y_test))\n",
    "        # print('regress metrics', regression_metrics(y_pred, y_test))\n",
    "\n",
    "    plt.plot(fold_perf)\n",
    "    return(y_pred)"
   ]
  },
  {
   "cell_type": "code",
   "execution_count": 421,
   "metadata": {},
   "outputs": [
    {
     "name": "stdout",
     "output_type": "stream",
     "text": [
      "baseline accuracy 0.0\n",
      "cohens score 0.0925938451132905\n",
      "classification metrics (accuracy, precision, recall, f1score) (0.17086026341049168, 0.1937984496124031, 0.1937984496124031, 0.1674974493606398)\n",
      "regression metrics (r2, mse, rmse) (0.1194858323779967, 19.372020901249556, 375.2751937984496)\n"
     ]
    },
    {
     "name": "stderr",
     "output_type": "stream",
     "text": [
      "c:\\Users\\azaan\\AppData\\Local\\Programs\\Python\\Python310\\lib\\site-packages\\sklearn\\model_selection\\_split.py:700: UserWarning: The least populated class in y has only 1 members, which is less than n_splits=4.\n",
      "  warnings.warn(\n"
     ]
    },
    {
     "name": "stdout",
     "output_type": "stream",
     "text": [
      "baseline accuracy 0.0\n",
      "cohens score 0.12833554474421316\n",
      "classification metrics (accuracy, precision, recall, f1score) (0.18038290388680311, 0.23255813953488372, 0.23255813953488372, 0.20247004958359271)\n",
      "regression metrics (r2, mse, rmse) (0.57681816304978, 16.81997704834869, 282.9116279069767)\n",
      "baseline accuracy 0.0\n",
      "cohens score 0.15899921275339501\n",
      "classification metrics (accuracy, precision, recall, f1score) (0.20276921127367314, 0.26046511627906976, 0.26046511627906976, 0.22595129620600002)\n",
      "regression metrics (r2, mse, rmse) (-0.10650724195900296, 12.975468804543226, 168.36279069767443)\n",
      "baseline accuracy 0.0\n",
      "cohens score 0.13580998781973197\n",
      "classification metrics (accuracy, precision, recall, f1score) (0.19995661610758178, 0.23255813953488372, 0.23255813953488372, 0.21247552447552448)\n",
      "regression metrics (r2, mse, rmse) (-2.2647886189596984, 23.653604868091755, 559.4930232558139)\n",
      "baseline accuracy 0.0\n",
      "cohens score 0.15849321244301962\n",
      "classification metrics (accuracy, precision, recall, f1score) (0.20170509954589874, 0.26635514018691586, 0.26635514018691586, 0.21876854388797726)\n",
      "regression metrics (r2, mse, rmse) (0.17185444245775505, 23.184449348405604, 537.518691588785)\n"
     ]
    },
    {
     "data": {
      "image/png": "[encoded data removed]",
      "text/plain": [
       "<Figure size 640x480 with 1 Axes>"
      ]
     },
     "metadata": {},
     "output_type": "display_data"
    }
   ],
   "source": [
    "X_train, X_test, y_train, y_test, date = train_test_splitting(data)\n",
    "rf_class_pred = rand_forest_classifier(X_train, X_test, y_train, y_test)\n",
    "folding_perf = k_folding(X_train, X_test, y_train, y_test, 4)"
   ]
  },
  {
   "cell_type": "code",
   "execution_count": 425,
   "metadata": {},
   "outputs": [
    {
     "name": "stdout",
     "output_type": "stream",
     "text": [
      "[0.07824742 0.11165353 0.10985316 0.12918465 0.22305946 0.13883825\n",
      " 0.03625028 0.07551562 0.09461917 0.00277845]\n",
      "Index(['record_#', 'latitude', 'longitude', 'satellite', 'avg_frp',\n",
      "       'surface_temp', 'confidence', 'city', 'max_temp', 'rain'],\n",
      "      dtype='object')\n"
     ]
    }
   ],
   "source": [
    "print(rand_forest.feature_importances_)\n",
    "print(X_train.columns)"
   ]
  },
  {
   "cell_type": "code",
   "execution_count": null,
   "metadata": {},
   "outputs": [],
   "source": []
  },
  {
   "cell_type": "code",
   "execution_count": 309,
   "metadata": {},
   "outputs": [],
   "source": [
    "# # DO this all again, but with another dependent variable\n",
    "# # Not working atm, I need to use RandomForestRegressor, might not be worth \n",
    "\n",
    "\n",
    "# X_train, X_test, y_train, y_test = train_test_splitting(data, decision_variable = 'avg_frp', test_size=0.3, seed=seed)\n",
    "# log_pred2 = log_regression(X_train, X_test, y_train, y_test)\n",
    "# folding_pred2 = k_folding(X_train, X_test, y_train, y_test)\n",
    "# rf_class_pred2 = rand_forest_classifier(X_train, X_test, y_train, y_test)\n"
   ]
  },
  {
   "cell_type": "code",
   "execution_count": 311,
   "metadata": {},
   "outputs": [],
   "source": [
    "##### JUNK\n",
    "\n",
    "# #create hyperparameters in order to cross-validate the model\n",
    "# hyperparam_grid = {'n_estimators': [3, 100, 1000],\n",
    "#                    'max_features': [0.05, 0.5, 0.95],\n",
    "#                    'max_depth': [10, 50, 100, None]}\n",
    "\n",
    "# grid_scorer = make_scorer(cohen_kappa_score)\n",
    "# rand_forest = GridSearchCV(RandomForestClassifier(), hyperparam_grid, cv=kf, scoring=grid_scorer)\n",
    "# rand_forest.fit(x, y)\n",
    "\n",
    "# print(rand_forest.best_score_)\n",
    "# print(rand_forest.best_params_)\n",
    "\n",
    "# rand_forest = RandomForestClassifier(max_depth= 10, max_features= 0.95, n_estimators= 100)\n",
    "# y_pred = rand_forest.fit(X_train, y_train).predict(X_test)\n",
    "\n",
    "# acc_score = accuracy_score(y_test, y_pred)\n",
    "# baseline_acc = len(y[y == 0]) / len(y) \n",
    "# cohens_score = cohen_kappa_score(y_test, y_pred)\n",
    "# print(acc_score, baseline_acc, cohens_score)\n",
    "\n",
    "# #use K-folds with best parameters\n",
    "# from sklearn.model_selection import StratifiedKFold\n",
    "# fold_perf = []\n",
    "# rand_forest = RandomForestClassifier(max_depth= 10, max_features= 0.95, n_estimators= 100)\n",
    "\n",
    "# kf = StratifiedKFold(n_splits=10, shuffle=True)\n",
    "# for train_index, test_index in kf.split(x, y):\n",
    "#     X_train, X_test = x.iloc[train_index], x.iloc[test_index]\n",
    "#     y_train, y_test = y.iloc[train_index], y.iloc[test_index]\n",
    "    \n",
    "#     rand_forest.fit(X_train, y_train)\n",
    "#     y_pred = rand_forest.predict(X_test)\n",
    "\n",
    "#     acc_score = accuracy_score(y_test, y_pred)\n",
    "#     fold_perf.append(acc_score)\n",
    "#     print('class metrics', classification_metrics(y_pred, y_test))\n",
    "#     print('regress metrics', regression_metrics(y_pred, y_test))\n",
    "\n",
    "# plt.plot(fold_perf)\n"
   ]
  },
  {
   "cell_type": "code",
   "execution_count": 312,
   "metadata": {},
   "outputs": [
    {
     "name": "stdout",
     "output_type": "stream",
     "text": [
      "601\n",
      "258\n",
      "258\n"
     ]
    }
   ],
   "source": [
    "print(len(X_train))\n",
    "print(len(X_test))\n",
    "print(len(rf_class_pred))"
   ]
  },
  {
   "attachments": {},
   "cell_type": "markdown",
   "metadata": {},
   "source": [
    "## Neural Networks"
   ]
  },
  {
   "cell_type": "code",
   "execution_count": 372,
   "metadata": {},
   "outputs": [
    {
     "data": {
      "text/plain": [
       "True"
      ]
     },
     "execution_count": 372,
     "metadata": {},
     "output_type": "execute_result"
    }
   ],
   "source": [
    "# let's use another model to do regression instead of classification to get a better score\n",
    "type(X_train) == type(data)"
   ]
  },
  {
   "cell_type": "code",
   "execution_count": 394,
   "metadata": {},
   "outputs": [
    {
     "data": {
      "text/plain": [
       "<All keys matched successfully>"
      ]
     },
     "execution_count": 394,
     "metadata": {},
     "output_type": "execute_result"
    }
   ],
   "source": [
    "# let's define a NN that can do regression\n",
    "import copy\n",
    "import tqdm\n",
    "import torch.nn as nn\n",
    "import torch.optim as optim\n",
    "\n",
    "# split the dataset with scaled data to fit better into the linear regression\n",
    "X_train, X_test, y_train, y_test = train_test_splitting(data, decision_variable = 'fire_count', test_size=0.3, seed=seed, scale_data = True)\n",
    "\n",
    "# First make the model\n",
    "model = nn.Sequential(\n",
    "    nn.Linear(10, 6),\n",
    "    nn.ReLU(),\n",
    "    # nn.Linear(24, 12),\n",
    "    # nn.ReLU(),\n",
    "    # nn.Linear(12, 6),\n",
    "    # nn.ReLU(),\n",
    "    nn.Linear(6, 1)\n",
    ")\n",
    "\n",
    "# loss function and optimizer\n",
    "loss_fn = nn.MSELoss()  # mean square error\n",
    "optimizer = optim.Adam(model.parameters(), lr=0.0001)\n",
    "\n",
    "# make data into tensore\n",
    "if type(X_train) == type(data):\n",
    "    X_train = torch.from_numpy(X_train.values).float()\n",
    "    X_test = torch.from_numpy(X_test.values).float()\n",
    "else:\n",
    "    X_train = torch.from_numpy(X_train).float()\n",
    "    X_test = torch.from_numpy(X_test).float()\n",
    "y_train = torch.from_numpy(y_train.values).float().reshape(-1, 1)\n",
    "y_test = torch.from_numpy(y_test.values).float().reshape(-1, 1)\n",
    "\n",
    "# training parameters\n",
    "n_epochs = 100   # number of epochs to run\n",
    "batch_size = 10  # size of each batch\n",
    "batch_start = torch.arange(0, len(X_train), batch_size)\n",
    "\n",
    "# Hold the best model\n",
    "best_mse = np.inf   # init to infinity\n",
    "best_weights = None\n",
    "history = []\n",
    "\n",
    "# training loop\n",
    "for epoch in range(n_epochs):\n",
    "    model.train()\n",
    "    with tqdm.tqdm(batch_start, unit=\"batch\", mininterval=0, disable=True) as bar:\n",
    "        bar.set_description(f\"Epoch {epoch}\")\n",
    "        for start in bar:\n",
    "            # take a batch\n",
    "            X_batch = X_train[start:start+batch_size]\n",
    "            y_batch = y_train[start:start+batch_size]\n",
    "            # forward pass\n",
    "            y_pred = model(X_batch)\n",
    "            loss = loss_fn(y_pred, y_batch)\n",
    "            # backward pass\n",
    "            optimizer.zero_grad()\n",
    "            loss.backward()\n",
    "            # update weights\n",
    "            optimizer.step()\n",
    "            # print progress\n",
    "            bar.set_postfix(mse=float(loss))\n",
    "    # evaluate accuracy at end of each epoch\n",
    "    model.eval()\n",
    "    y_pred = model(X_test)\n",
    "    mse = loss_fn(y_pred, y_test)\n",
    "    mse = float(mse)\n",
    "    history.append(mse)\n",
    "    if mse < best_mse:\n",
    "        best_mse = mse\n",
    "        best_weights = copy.deepcopy(model.state_dict())\n",
    " \n",
    "# restore model and return best accuracy\n",
    "model.load_state_dict(best_weights)"
   ]
  },
  {
   "cell_type": "code",
   "execution_count": 395,
   "metadata": {},
   "outputs": [
    {
     "name": "stdout",
     "output_type": "stream",
     "text": [
      "MSE: 477.50\n",
      "RMSE: 21.85\n"
     ]
    },
    {
     "data": {
      "image/png": "[encoded data removed]",
      "text/plain": [
       "<Figure size 640x480 with 1 Axes>"
      ]
     },
     "metadata": {},
     "output_type": "display_data"
    }
   ],
   "source": [
    "print(\"MSE: %.2f\" % best_mse)\n",
    "print(\"RMSE: %.2f\" % np.sqrt(best_mse))\n",
    "plt.plot(history)\n",
    "plt.show()"
   ]
  },
  {
   "cell_type": "code",
   "execution_count": 141,
   "metadata": {},
   "outputs": [
    {
     "data": {
      "text/html": [
       "<div>\n",
       "<style scoped>\n",
       "    .dataframe tbody tr th:only-of-type {\n",
       "        vertical-align: middle;\n",
       "    }\n",
       "\n",
       "    .dataframe tbody tr th {\n",
       "        vertical-align: top;\n",
       "    }\n",
       "\n",
       "    .dataframe thead th {\n",
       "        text-align: right;\n",
       "    }\n",
       "</style>\n",
       "<table border=\"1\" class=\"dataframe\">\n",
       "  <thead>\n",
       "    <tr style=\"text-align: right;\">\n",
       "      <th></th>\n",
       "      <th>record_#</th>\n",
       "      <th>latitude</th>\n",
       "      <th>longitude</th>\n",
       "      <th>satellite</th>\n",
       "      <th>avg_frp</th>\n",
       "      <th>surface_temp</th>\n",
       "      <th>confidence</th>\n",
       "      <th>city</th>\n",
       "      <th>max_temp</th>\n",
       "      <th>rain</th>\n",
       "      <th>y_test</th>\n",
       "      <th>y_pred</th>\n",
       "    </tr>\n",
       "  </thead>\n",
       "  <tbody>\n",
       "    <tr>\n",
       "      <th>311</th>\n",
       "      <td>311</td>\n",
       "      <td>40.247850</td>\n",
       "      <td>-119.429050</td>\n",
       "      <td>1.00000</td>\n",
       "      <td>2735.500000</td>\n",
       "      <td>345.900000</td>\n",
       "      <td>100.000000</td>\n",
       "      <td>2</td>\n",
       "      <td>65.0</td>\n",
       "      <td>0.00</td>\n",
       "      <td>2</td>\n",
       "      <td>1</td>\n",
       "    </tr>\n",
       "    <tr>\n",
       "      <th>355</th>\n",
       "      <td>355</td>\n",
       "      <td>41.707325</td>\n",
       "      <td>-116.091600</td>\n",
       "      <td>2.00000</td>\n",
       "      <td>2929.950000</td>\n",
       "      <td>317.650000</td>\n",
       "      <td>100.000000</td>\n",
       "      <td>2</td>\n",
       "      <td>61.0</td>\n",
       "      <td>0.00</td>\n",
       "      <td>4</td>\n",
       "      <td>3</td>\n",
       "    </tr>\n",
       "    <tr>\n",
       "      <th>417</th>\n",
       "      <td>417</td>\n",
       "      <td>39.863400</td>\n",
       "      <td>-121.288100</td>\n",
       "      <td>2.00000</td>\n",
       "      <td>2044.400000</td>\n",
       "      <td>298.000000</td>\n",
       "      <td>100.000000</td>\n",
       "      <td>2</td>\n",
       "      <td>64.0</td>\n",
       "      <td>0.00</td>\n",
       "      <td>1</td>\n",
       "      <td>2</td>\n",
       "    </tr>\n",
       "    <tr>\n",
       "      <th>283</th>\n",
       "      <td>283</td>\n",
       "      <td>36.162900</td>\n",
       "      <td>-120.532500</td>\n",
       "      <td>1.00000</td>\n",
       "      <td>2393.350000</td>\n",
       "      <td>364.250000</td>\n",
       "      <td>100.000000</td>\n",
       "      <td>1</td>\n",
       "      <td>82.0</td>\n",
       "      <td>0.00</td>\n",
       "      <td>2</td>\n",
       "      <td>1</td>\n",
       "    </tr>\n",
       "    <tr>\n",
       "      <th>390</th>\n",
       "      <td>390</td>\n",
       "      <td>38.694175</td>\n",
       "      <td>-122.179275</td>\n",
       "      <td>1.50000</td>\n",
       "      <td>2226.500000</td>\n",
       "      <td>324.175000</td>\n",
       "      <td>100.000000</td>\n",
       "      <td>2</td>\n",
       "      <td>62.0</td>\n",
       "      <td>0.00</td>\n",
       "      <td>4</td>\n",
       "      <td>3</td>\n",
       "    </tr>\n",
       "    <tr>\n",
       "      <th>...</th>\n",
       "      <td>...</td>\n",
       "      <td>...</td>\n",
       "      <td>...</td>\n",
       "      <td>...</td>\n",
       "      <td>...</td>\n",
       "      <td>...</td>\n",
       "      <td>...</td>\n",
       "      <td>...</td>\n",
       "      <td>...</td>\n",
       "      <td>...</td>\n",
       "      <td>...</td>\n",
       "      <td>...</td>\n",
       "    </tr>\n",
       "    <tr>\n",
       "      <th>419</th>\n",
       "      <td>419</td>\n",
       "      <td>40.109025</td>\n",
       "      <td>-123.103175</td>\n",
       "      <td>2.00000</td>\n",
       "      <td>2394.725000</td>\n",
       "      <td>400.100000</td>\n",
       "      <td>100.000000</td>\n",
       "      <td>2</td>\n",
       "      <td>77.0</td>\n",
       "      <td>0.00</td>\n",
       "      <td>4</td>\n",
       "      <td>2</td>\n",
       "    </tr>\n",
       "    <tr>\n",
       "      <th>365</th>\n",
       "      <td>365</td>\n",
       "      <td>36.232256</td>\n",
       "      <td>-119.819163</td>\n",
       "      <td>1.37037</td>\n",
       "      <td>2532.618519</td>\n",
       "      <td>329.003704</td>\n",
       "      <td>99.037037</td>\n",
       "      <td>1</td>\n",
       "      <td>82.0</td>\n",
       "      <td>0.00</td>\n",
       "      <td>27</td>\n",
       "      <td>3</td>\n",
       "    </tr>\n",
       "    <tr>\n",
       "      <th>413</th>\n",
       "      <td>413</td>\n",
       "      <td>37.533000</td>\n",
       "      <td>-119.312800</td>\n",
       "      <td>2.00000</td>\n",
       "      <td>1790.200000</td>\n",
       "      <td>400.100000</td>\n",
       "      <td>100.000000</td>\n",
       "      <td>2</td>\n",
       "      <td>71.0</td>\n",
       "      <td>0.00</td>\n",
       "      <td>1</td>\n",
       "      <td>2</td>\n",
       "    </tr>\n",
       "    <tr>\n",
       "      <th>410</th>\n",
       "      <td>410</td>\n",
       "      <td>34.688333</td>\n",
       "      <td>-117.983633</td>\n",
       "      <td>1.50000</td>\n",
       "      <td>2329.333333</td>\n",
       "      <td>334.400000</td>\n",
       "      <td>100.000000</td>\n",
       "      <td>1</td>\n",
       "      <td>96.0</td>\n",
       "      <td>0.00</td>\n",
       "      <td>6</td>\n",
       "      <td>1</td>\n",
       "    </tr>\n",
       "    <tr>\n",
       "      <th>236</th>\n",
       "      <td>236</td>\n",
       "      <td>39.271850</td>\n",
       "      <td>-114.101450</td>\n",
       "      <td>1.00000</td>\n",
       "      <td>1826.100000</td>\n",
       "      <td>296.950000</td>\n",
       "      <td>100.000000</td>\n",
       "      <td>2</td>\n",
       "      <td>72.0</td>\n",
       "      <td>0.04</td>\n",
       "      <td>2</td>\n",
       "      <td>2</td>\n",
       "    </tr>\n",
       "  </tbody>\n",
       "</table>\n",
       "<p>129 rows × 12 columns</p>\n",
       "</div>"
      ],
      "text/plain": [
       "     record_#   latitude   longitude  satellite      avg_frp  surface_temp  \\\n",
       "311       311  40.247850 -119.429050    1.00000  2735.500000    345.900000   \n",
       "355       355  41.707325 -116.091600    2.00000  2929.950000    317.650000   \n",
       "417       417  39.863400 -121.288100    2.00000  2044.400000    298.000000   \n",
       "283       283  36.162900 -120.532500    1.00000  2393.350000    364.250000   \n",
       "390       390  38.694175 -122.179275    1.50000  2226.500000    324.175000   \n",
       "..        ...        ...         ...        ...          ...           ...   \n",
       "419       419  40.109025 -123.103175    2.00000  2394.725000    400.100000   \n",
       "365       365  36.232256 -119.819163    1.37037  2532.618519    329.003704   \n",
       "413       413  37.533000 -119.312800    2.00000  1790.200000    400.100000   \n",
       "410       410  34.688333 -117.983633    1.50000  2329.333333    334.400000   \n",
       "236       236  39.271850 -114.101450    1.00000  1826.100000    296.950000   \n",
       "\n",
       "     confidence  city  max_temp  rain  y_test  y_pred  \n",
       "311  100.000000     2      65.0  0.00       2       1  \n",
       "355  100.000000     2      61.0  0.00       4       3  \n",
       "417  100.000000     2      64.0  0.00       1       2  \n",
       "283  100.000000     1      82.0  0.00       2       1  \n",
       "390  100.000000     2      62.0  0.00       4       3  \n",
       "..          ...   ...       ...   ...     ...     ...  \n",
       "419  100.000000     2      77.0  0.00       4       2  \n",
       "365   99.037037     1      82.0  0.00      27       3  \n",
       "413  100.000000     2      71.0  0.00       1       2  \n",
       "410  100.000000     1      96.0  0.00       6       1  \n",
       "236  100.000000     2      72.0  0.04       2       2  \n",
       "\n",
       "[129 rows x 12 columns]"
      ]
     },
     "execution_count": 141,
     "metadata": {},
     "output_type": "execute_result"
    }
   ],
   "source": [
    "new = X_test.copy(deep=True)\n",
    "new['y_test'] = y_test\n",
    "new['y_pred'] = y_pred\n",
    "new"
   ]
  },
  {
   "cell_type": "code",
   "execution_count": null,
   "metadata": {},
   "outputs": [
    {
     "ename": "KeyError",
     "evalue": "'date'",
     "output_type": "error",
     "traceback": [
      "\u001b[1;31m---------------------------------------------------------------------------\u001b[0m",
      "\u001b[1;31mKeyError\u001b[0m                                  Traceback (most recent call last)",
      "File \u001b[1;32mc:\\Users\\azaan\\AppData\\Local\\Programs\\Python\\Python310\\lib\\site-packages\\pandas\\core\\indexes\\base.py:3802\u001b[0m, in \u001b[0;36mIndex.get_loc\u001b[1;34m(self, key, method, tolerance)\u001b[0m\n\u001b[0;32m   3801\u001b[0m \u001b[39mtry\u001b[39;00m:\n\u001b[1;32m-> 3802\u001b[0m     \u001b[39mreturn\u001b[39;00m \u001b[39mself\u001b[39;49m\u001b[39m.\u001b[39;49m_engine\u001b[39m.\u001b[39;49mget_loc(casted_key)\n\u001b[0;32m   3803\u001b[0m \u001b[39mexcept\u001b[39;00m \u001b[39mKeyError\u001b[39;00m \u001b[39mas\u001b[39;00m err:\n",
      "File \u001b[1;32mc:\\Users\\azaan\\AppData\\Local\\Programs\\Python\\Python310\\lib\\site-packages\\pandas\\_libs\\index.pyx:138\u001b[0m, in \u001b[0;36mpandas._libs.index.IndexEngine.get_loc\u001b[1;34m()\u001b[0m\n",
      "File \u001b[1;32mc:\\Users\\azaan\\AppData\\Local\\Programs\\Python\\Python310\\lib\\site-packages\\pandas\\_libs\\index.pyx:165\u001b[0m, in \u001b[0;36mpandas._libs.index.IndexEngine.get_loc\u001b[1;34m()\u001b[0m\n",
      "File \u001b[1;32mpandas\\_libs\\hashtable_class_helper.pxi:5745\u001b[0m, in \u001b[0;36mpandas._libs.hashtable.PyObjectHashTable.get_item\u001b[1;34m()\u001b[0m\n",
      "File \u001b[1;32mpandas\\_libs\\hashtable_class_helper.pxi:5753\u001b[0m, in \u001b[0;36mpandas._libs.hashtable.PyObjectHashTable.get_item\u001b[1;34m()\u001b[0m\n",
      "\u001b[1;31mKeyError\u001b[0m: 'date'",
      "\nThe above exception was the direct cause of the following exception:\n",
      "\u001b[1;31mKeyError\u001b[0m                                  Traceback (most recent call last)",
      "\u001b[1;32mc:\\Users\\azaan\\OneDrive\\Documents\\GitHub\\Data-Nerds\\data_analysis.ipynb Cell 43\u001b[0m in \u001b[0;36m1\n\u001b[1;32m----> <a href='vscode-notebook-cell:/c%3A/Users/azaan/OneDrive/Documents/GitHub/Data-Nerds/data_analysis.ipynb#Y106sZmlsZQ%3D%3D?line=0'>1</a>\u001b[0m plt\u001b[39m.\u001b[39mplot(new\u001b[39m.\u001b[39mgroupby(new[\u001b[39m'\u001b[39;49m\u001b[39mdate\u001b[39;49m\u001b[39m'\u001b[39;49m]\u001b[39m.\u001b[39mdt\u001b[39m.\u001b[39myear)[\u001b[39m'\u001b[39m\u001b[39mmean_temp\u001b[39m\u001b[39m'\u001b[39m]\u001b[39m.\u001b[39mmean())\n",
      "File \u001b[1;32mc:\\Users\\azaan\\AppData\\Local\\Programs\\Python\\Python310\\lib\\site-packages\\pandas\\core\\frame.py:3807\u001b[0m, in \u001b[0;36mDataFrame.__getitem__\u001b[1;34m(self, key)\u001b[0m\n\u001b[0;32m   3805\u001b[0m \u001b[39mif\u001b[39;00m \u001b[39mself\u001b[39m\u001b[39m.\u001b[39mcolumns\u001b[39m.\u001b[39mnlevels \u001b[39m>\u001b[39m \u001b[39m1\u001b[39m:\n\u001b[0;32m   3806\u001b[0m     \u001b[39mreturn\u001b[39;00m \u001b[39mself\u001b[39m\u001b[39m.\u001b[39m_getitem_multilevel(key)\n\u001b[1;32m-> 3807\u001b[0m indexer \u001b[39m=\u001b[39m \u001b[39mself\u001b[39;49m\u001b[39m.\u001b[39;49mcolumns\u001b[39m.\u001b[39;49mget_loc(key)\n\u001b[0;32m   3808\u001b[0m \u001b[39mif\u001b[39;00m is_integer(indexer):\n\u001b[0;32m   3809\u001b[0m     indexer \u001b[39m=\u001b[39m [indexer]\n",
      "File \u001b[1;32mc:\\Users\\azaan\\AppData\\Local\\Programs\\Python\\Python310\\lib\\site-packages\\pandas\\core\\indexes\\base.py:3804\u001b[0m, in \u001b[0;36mIndex.get_loc\u001b[1;34m(self, key, method, tolerance)\u001b[0m\n\u001b[0;32m   3802\u001b[0m     \u001b[39mreturn\u001b[39;00m \u001b[39mself\u001b[39m\u001b[39m.\u001b[39m_engine\u001b[39m.\u001b[39mget_loc(casted_key)\n\u001b[0;32m   3803\u001b[0m \u001b[39mexcept\u001b[39;00m \u001b[39mKeyError\u001b[39;00m \u001b[39mas\u001b[39;00m err:\n\u001b[1;32m-> 3804\u001b[0m     \u001b[39mraise\u001b[39;00m \u001b[39mKeyError\u001b[39;00m(key) \u001b[39mfrom\u001b[39;00m \u001b[39merr\u001b[39;00m\n\u001b[0;32m   3805\u001b[0m \u001b[39mexcept\u001b[39;00m \u001b[39mTypeError\u001b[39;00m:\n\u001b[0;32m   3806\u001b[0m     \u001b[39m# If we have a listlike key, _check_indexing_error will raise\u001b[39;00m\n\u001b[0;32m   3807\u001b[0m     \u001b[39m#  InvalidIndexError. Otherwise we fall through and re-raise\u001b[39;00m\n\u001b[0;32m   3808\u001b[0m     \u001b[39m#  the TypeError.\u001b[39;00m\n\u001b[0;32m   3809\u001b[0m     \u001b[39mself\u001b[39m\u001b[39m.\u001b[39m_check_indexing_error(key)\n",
      "\u001b[1;31mKeyError\u001b[0m: 'date'"
     ]
    }
   ],
   "source": [
    "plt.plot(new.groupby(new['date'].dt.year)['mean_temp'].mean())"
   ]
  },
  {
   "cell_type": "code",
   "execution_count": null,
   "metadata": {},
   "outputs": [],
   "source": []
  }
 ],
 "metadata": {
  "kernelspec": {
   "display_name": "Python 3.10.6 64-bit",
   "language": "python",
   "name": "python3"
  },
  "language_info": {
   "codemirror_mode": {
    "name": "ipython",
    "version": 3
   },
   "file_extension": ".py",
   "mimetype": "text/x-python",
   "name": "python",
   "nbconvert_exporter": "python",
   "pygments_lexer": "ipython3",
   "version": "3.10.7"
  },
  "orig_nbformat": 4,
  "vscode": {
   "interpreter": {
    "hash": "aee8b7b246df8f9039afb4144a1f6fd8d2ca17a180786b69acc140d282b71a49"
   }
  }
 },
 "nbformat": 4,
 "nbformat_minor": 2
}
