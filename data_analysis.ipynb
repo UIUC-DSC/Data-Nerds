{
 "cells": [
  {
   "attachments": {},
   "cell_type": "markdown",
   "metadata": {},
   "source": [
    "# Analysis of data"
   ]
  },
  {
   "attachments": {},
   "cell_type": "markdown",
   "metadata": {},
   "source": [
    "Here we can look at different datasets and explore them a bit, seeing what the data holds"
   ]
  },
  {
   "attachments": {},
   "cell_type": "markdown",
   "metadata": {},
   "source": [
    "## Azaan's explorations"
   ]
  },
  {
   "cell_type": "code",
   "execution_count": 2,
   "metadata": {},
   "outputs": [],
   "source": [
    "# to install a package just do: !pip install [package_name]\n",
    "# !pip install pandas\n",
    "# !pip install pillow"
   ]
  },
  {
   "cell_type": "code",
   "execution_count": 3,
   "metadata": {},
   "outputs": [],
   "source": [
    "# view multimodel dataset\n",
    "import zipfile\n",
    "import shutil\n",
    "import os\n",
    "filepath = 'datasets/multimodal-deep-learning-disaster-response-mouzannar (1).zip'\n",
    "\n",
    "# with zipfile.ZipFile(filepath, 'r') as zip_ref:\n",
    "#     zip_ref.extractall('multimodal_data')\n",
    "\n",
    "# shutil.move('multimodal_data', 'datasets/multimodal_data')\n",
    "# os.remove(\"multimodal_data\")\n",
    "\n",
    "##\n",
    "# after looking the files, there are 6 folders with both images and attached text files\n",
    "# does not seem that useful to us at the moment, unless we want to process images which\n",
    "# I don't think we need to do"
   ]
  },
  {
   "cell_type": "code",
   "execution_count": 32,
   "metadata": {},
   "outputs": [],
   "source": [
    "# view weather datasets\n",
    "# I gathered from https://scacis.rcc-acis.org/\n",
    "# Product Selection -> daily data listing\n",
    "# Option selection -> start date 3/1/2000 -- 3/1/2023\n",
    "# Station/Area -> los angeles (USC) and san francisco (downtown)\n",
    "\n",
    "import pandas as pd\n",
    "\n",
    "la_df = pd.read_csv('datasets/weather_data/Los_Angeles_March_2020-2023.csv')\n",
    "sf_df = pd.read_csv('datasets/weather_data/San_Francisco_March_2020-2023.csv')"
   ]
  },
  {
   "cell_type": "code",
   "execution_count": 33,
   "metadata": {},
   "outputs": [
    {
     "name": "stdout",
     "output_type": "stream",
     "text": [
      "         Date  MaxTemperature  MinTemperature  AvgTemperature  AtObsTemperature  Precipitation  Snowfall  SnowDepth\n",
      "0  2000-03-01              65              48            56.5                 M           0.00         M          M\n",
      "1  2000-03-02              70              46            58.0                 M           0.00         M          M\n",
      "2  2000-03-03              62              50            56.0                 M           0.28         M          M\n",
      "3  2000-03-04              57              49            53.0                 M           0.07         M          M\n",
      "4  2000-03-05              56              45            50.5                 M           1.71         M          M\n",
      "         Date  MaxTemperature  MinTemperature  AvgTemperature  AtObsTemperature  Precipitation  Snowfall  SnowDepth\n",
      "0  2000-03-01              62              45            53.5                 M           0.00         M          M\n",
      "1  2000-03-02              56              48            52.0                 M           0.27         M          M\n",
      "2  2000-03-03              61              46            53.5                 M           0.00         M          M\n",
      "3  2000-03-04              58              50            54.0                 M           0.52         M          M\n",
      "4  2000-03-05              51              47            49.0                 M           0.05         M          M\n"
     ]
    }
   ],
   "source": [
    "pd.set_option('display.max_rows', 500)\n",
    "pd.set_option('display.max_columns', 500)\n",
    "pd.set_option('display.width', 1000)\n",
    "\n",
    "print(la_df.head())\n",
    "print(sf_df.head())\n",
    "\n",
    "# So we have good weather data from this site, I think we can use any other data\n",
    "# that has a similar range and try to correlate them\n",
    "# For instance, fire data vs temperatre rises in the last 20 year --> global warming affect"
   ]
  },
  {
   "cell_type": "code",
   "execution_count": 34,
   "metadata": {},
   "outputs": [
    {
     "data": {
      "text/html": [
       "<div>\n",
       "<style scoped>\n",
       "    .dataframe tbody tr th:only-of-type {\n",
       "        vertical-align: middle;\n",
       "    }\n",
       "\n",
       "    .dataframe tbody tr th {\n",
       "        vertical-align: top;\n",
       "    }\n",
       "\n",
       "    .dataframe thead th {\n",
       "        text-align: right;\n",
       "    }\n",
       "</style>\n",
       "<table border=\"1\" class=\"dataframe\">\n",
       "  <thead>\n",
       "    <tr style=\"text-align: right;\">\n",
       "      <th></th>\n",
       "      <th>Date</th>\n",
       "      <th>MaxTemperature</th>\n",
       "      <th>MinTemperature</th>\n",
       "      <th>AvgTemperature</th>\n",
       "      <th>AtObsTemperature</th>\n",
       "      <th>Precipitation</th>\n",
       "      <th>Snowfall</th>\n",
       "      <th>SnowDepth</th>\n",
       "    </tr>\n",
       "  </thead>\n",
       "  <tbody>\n",
       "    <tr>\n",
       "      <th>count</th>\n",
       "      <td>8402</td>\n",
       "      <td>8402</td>\n",
       "      <td>8402</td>\n",
       "      <td>8402</td>\n",
       "      <td>8402</td>\n",
       "      <td>8402</td>\n",
       "      <td>8402</td>\n",
       "      <td>8402</td>\n",
       "    </tr>\n",
       "    <tr>\n",
       "      <th>unique</th>\n",
       "      <td>8402</td>\n",
       "      <td>60</td>\n",
       "      <td>46</td>\n",
       "      <td>93</td>\n",
       "      <td>1</td>\n",
       "      <td>162</td>\n",
       "      <td>2</td>\n",
       "      <td>2</td>\n",
       "    </tr>\n",
       "    <tr>\n",
       "      <th>top</th>\n",
       "      <td>2000-03-01</td>\n",
       "      <td>80</td>\n",
       "      <td>63</td>\n",
       "      <td>69.5</td>\n",
       "      <td>M</td>\n",
       "      <td>0.00</td>\n",
       "      <td>0.0</td>\n",
       "      <td>M</td>\n",
       "    </tr>\n",
       "    <tr>\n",
       "      <th>freq</th>\n",
       "      <td>1</td>\n",
       "      <td>359</td>\n",
       "      <td>495</td>\n",
       "      <td>225</td>\n",
       "      <td>8402</td>\n",
       "      <td>7367</td>\n",
       "      <td>6010</td>\n",
       "      <td>4267</td>\n",
       "    </tr>\n",
       "  </tbody>\n",
       "</table>\n",
       "</div>"
      ],
      "text/plain": [
       "              Date  MaxTemperature  MinTemperature  AvgTemperature  AtObsTemperature  Precipitation  Snowfall  SnowDepth\n",
       "count         8402            8402            8402            8402              8402           8402      8402       8402\n",
       "unique        8402              60              46              93                 1            162         2          2\n",
       "top     2000-03-01              80              63            69.5                 M           0.00       0.0          M\n",
       "freq             1             359             495             225              8402           7367      6010       4267"
      ]
     },
     "execution_count": 34,
     "metadata": {},
     "output_type": "execute_result"
    }
   ],
   "source": [
    "# some summary statistics to look at the data\n",
    "la_df.describe()"
   ]
  },
  {
   "cell_type": "code",
   "execution_count": 35,
   "metadata": {},
   "outputs": [
    {
     "data": {
      "text/html": [
       "<div>\n",
       "<style scoped>\n",
       "    .dataframe tbody tr th:only-of-type {\n",
       "        vertical-align: middle;\n",
       "    }\n",
       "\n",
       "    .dataframe tbody tr th {\n",
       "        vertical-align: top;\n",
       "    }\n",
       "\n",
       "    .dataframe thead th {\n",
       "        text-align: right;\n",
       "    }\n",
       "</style>\n",
       "<table border=\"1\" class=\"dataframe\">\n",
       "  <thead>\n",
       "    <tr style=\"text-align: right;\">\n",
       "      <th></th>\n",
       "      <th>Date</th>\n",
       "      <th>MaxTemperature</th>\n",
       "      <th>MinTemperature</th>\n",
       "      <th>AvgTemperature</th>\n",
       "      <th>AtObsTemperature</th>\n",
       "      <th>Precipitation</th>\n",
       "      <th>Snowfall</th>\n",
       "      <th>SnowDepth</th>\n",
       "    </tr>\n",
       "  </thead>\n",
       "  <tbody>\n",
       "    <tr>\n",
       "      <th>0</th>\n",
       "      <td>2000-03-01</td>\n",
       "      <td>65.0</td>\n",
       "      <td>48.0</td>\n",
       "      <td>56.5</td>\n",
       "      <td>NaN</td>\n",
       "      <td>0.00</td>\n",
       "      <td>NaN</td>\n",
       "      <td>NaN</td>\n",
       "    </tr>\n",
       "    <tr>\n",
       "      <th>1</th>\n",
       "      <td>2000-03-02</td>\n",
       "      <td>70.0</td>\n",
       "      <td>46.0</td>\n",
       "      <td>58.0</td>\n",
       "      <td>NaN</td>\n",
       "      <td>0.00</td>\n",
       "      <td>NaN</td>\n",
       "      <td>NaN</td>\n",
       "    </tr>\n",
       "    <tr>\n",
       "      <th>2</th>\n",
       "      <td>2000-03-03</td>\n",
       "      <td>62.0</td>\n",
       "      <td>50.0</td>\n",
       "      <td>56.0</td>\n",
       "      <td>NaN</td>\n",
       "      <td>0.28</td>\n",
       "      <td>NaN</td>\n",
       "      <td>NaN</td>\n",
       "    </tr>\n",
       "    <tr>\n",
       "      <th>3</th>\n",
       "      <td>2000-03-04</td>\n",
       "      <td>57.0</td>\n",
       "      <td>49.0</td>\n",
       "      <td>53.0</td>\n",
       "      <td>NaN</td>\n",
       "      <td>0.07</td>\n",
       "      <td>NaN</td>\n",
       "      <td>NaN</td>\n",
       "    </tr>\n",
       "    <tr>\n",
       "      <th>4</th>\n",
       "      <td>2000-03-05</td>\n",
       "      <td>56.0</td>\n",
       "      <td>45.0</td>\n",
       "      <td>50.5</td>\n",
       "      <td>NaN</td>\n",
       "      <td>1.71</td>\n",
       "      <td>NaN</td>\n",
       "      <td>NaN</td>\n",
       "    </tr>\n",
       "    <tr>\n",
       "      <th>...</th>\n",
       "      <td>...</td>\n",
       "      <td>...</td>\n",
       "      <td>...</td>\n",
       "      <td>...</td>\n",
       "      <td>...</td>\n",
       "      <td>...</td>\n",
       "      <td>...</td>\n",
       "      <td>...</td>\n",
       "    </tr>\n",
       "    <tr>\n",
       "      <th>8397</th>\n",
       "      <td>2023-02-26</td>\n",
       "      <td>56.0</td>\n",
       "      <td>40.0</td>\n",
       "      <td>48.0</td>\n",
       "      <td>NaN</td>\n",
       "      <td>0.07</td>\n",
       "      <td>NaN</td>\n",
       "      <td>NaN</td>\n",
       "    </tr>\n",
       "    <tr>\n",
       "      <th>8398</th>\n",
       "      <td>2023-02-27</td>\n",
       "      <td>53.0</td>\n",
       "      <td>47.0</td>\n",
       "      <td>50.0</td>\n",
       "      <td>NaN</td>\n",
       "      <td>0.42</td>\n",
       "      <td>NaN</td>\n",
       "      <td>NaN</td>\n",
       "    </tr>\n",
       "    <tr>\n",
       "      <th>8399</th>\n",
       "      <td>2023-02-28</td>\n",
       "      <td>58.0</td>\n",
       "      <td>45.0</td>\n",
       "      <td>51.5</td>\n",
       "      <td>NaN</td>\n",
       "      <td>0.94</td>\n",
       "      <td>NaN</td>\n",
       "      <td>NaN</td>\n",
       "    </tr>\n",
       "    <tr>\n",
       "      <th>8400</th>\n",
       "      <td>2023-03-01</td>\n",
       "      <td>57.0</td>\n",
       "      <td>49.0</td>\n",
       "      <td>53.0</td>\n",
       "      <td>NaN</td>\n",
       "      <td>0.27</td>\n",
       "      <td>NaN</td>\n",
       "      <td>NaN</td>\n",
       "    </tr>\n",
       "    <tr>\n",
       "      <th>8401</th>\n",
       "      <td>2023-03-02</td>\n",
       "      <td>NaN</td>\n",
       "      <td>NaN</td>\n",
       "      <td>NaN</td>\n",
       "      <td>NaN</td>\n",
       "      <td>NaN</td>\n",
       "      <td>NaN</td>\n",
       "      <td>NaN</td>\n",
       "    </tr>\n",
       "  </tbody>\n",
       "</table>\n",
       "<p>8402 rows × 8 columns</p>\n",
       "</div>"
      ],
      "text/plain": [
       "            Date   MaxTemperature   MinTemperature   AvgTemperature   AtObsTemperature   Precipitation   Snowfall   SnowDepth\n",
       "0     2000-03-01             65.0             48.0             56.5                NaN            0.00        NaN         NaN\n",
       "1     2000-03-02             70.0             46.0             58.0                NaN            0.00        NaN         NaN\n",
       "2     2000-03-03             62.0             50.0             56.0                NaN            0.28        NaN         NaN\n",
       "3     2000-03-04             57.0             49.0             53.0                NaN            0.07        NaN         NaN\n",
       "4     2000-03-05             56.0             45.0             50.5                NaN            1.71        NaN         NaN\n",
       "...          ...              ...              ...              ...                ...             ...        ...         ...\n",
       "8397  2023-02-26             56.0             40.0             48.0                NaN            0.07        NaN         NaN\n",
       "8398  2023-02-27             53.0             47.0             50.0                NaN            0.42        NaN         NaN\n",
       "8399  2023-02-28             58.0             45.0             51.5                NaN            0.94        NaN         NaN\n",
       "8400  2023-03-01             57.0             49.0             53.0                NaN            0.27        NaN         NaN\n",
       "8401  2023-03-02              NaN              NaN              NaN                NaN             NaN        NaN         NaN\n",
       "\n",
       "[8402 rows x 8 columns]"
      ]
     },
     "execution_count": 35,
     "metadata": {},
     "output_type": "execute_result"
    }
   ],
   "source": [
    "# some strings in column, get rid and see mean\n",
    "cols=[i for i in la_df.columns if i not in [\"Date\"]]\n",
    "for col in cols:\n",
    "    la_df[col]=pd.to_numeric(la_df[col], errors='coerce')\n",
    "\n",
    "la_df"
   ]
  },
  {
   "cell_type": "code",
   "execution_count": 36,
   "metadata": {},
   "outputs": [
    {
     "data": {
      "text/plain": [
       "0       48.0\n",
       "1       46.0\n",
       "2       50.0\n",
       "3       49.0\n",
       "4       45.0\n",
       "        ... \n",
       "8397    40.0\n",
       "8398    47.0\n",
       "8399    45.0\n",
       "8400    49.0\n",
       "8401     NaN\n",
       "Name:  MinTemperature, Length: 8402, dtype: float64"
      ]
     },
     "execution_count": 36,
     "metadata": {},
     "output_type": "execute_result"
    }
   ],
   "source": [
    "la_df[' AvgTemperature']\n",
    "la_df[' MinTemperature']"
   ]
  },
  {
   "cell_type": "code",
   "execution_count": 37,
   "metadata": {},
   "outputs": [
    {
     "name": "stderr",
     "output_type": "stream",
     "text": [
      "C:\\Users\\azaan\\AppData\\Local\\Temp\\ipykernel_164304\\1385151588.py:4: FutureWarning: The default value of numeric_only in DataFrame.mean is deprecated. In a future version, it will default to False. In addition, specifying 'numeric_only=None' is deprecated. Select only valid columns or specify the value of numeric_only to silence this warning.\n",
      "  la_df.mean(axis=0)\n"
     ]
    },
    {
     "data": {
      "text/plain": [
       " MaxTemperature      75.285714\n",
       " MinTemperature      56.844524\n",
       " AvgTemperature      66.065119\n",
       " AtObsTemperature          NaN\n",
       " Precipitation        0.036955\n",
       " Snowfall             0.000000\n",
       " SnowDepth            0.000000\n",
       "dtype: float64"
      ]
     },
     "execution_count": 37,
     "metadata": {},
     "output_type": "execute_result"
    }
   ],
   "source": [
    "# drop NaN from the temp columns\n",
    "la_df = la_df[la_df[' AvgTemperature'].notna()]\n",
    "la_df\n",
    "la_df.mean(axis=0)"
   ]
  },
  {
   "cell_type": "code",
   "execution_count": 38,
   "metadata": {},
   "outputs": [
    {
     "data": {
      "text/plain": [
       "<bound method NDFrame._add_numeric_operations.<locals>.mean of 0       56.5\n",
       "1       58.0\n",
       "2       56.0\n",
       "3       53.0\n",
       "4       50.5\n",
       "        ... \n",
       "8396    47.5\n",
       "8397    48.0\n",
       "8398    50.0\n",
       "8399    51.5\n",
       "8400    53.0\n",
       "Name:  AvgTemperature, Length: 8400, dtype: float64>"
      ]
     },
     "execution_count": 38,
     "metadata": {},
     "output_type": "execute_result"
    }
   ],
   "source": [
    "la_df[' MaxTemperature'].isna().sum()\n",
    "la_df[' AvgTemperature'].mean"
   ]
  },
  {
   "cell_type": "code",
   "execution_count": 42,
   "metadata": {},
   "outputs": [
    {
     "data": {
      "text/plain": [
       "0      2000-03-01\n",
       "1      2000-03-02\n",
       "2      2000-03-03\n",
       "3      2000-03-04\n",
       "4      2000-03-05\n",
       "          ...    \n",
       "8396   2023-02-25\n",
       "8397   2023-02-26\n",
       "8398   2023-02-27\n",
       "8399   2023-02-28\n",
       "8400   2023-03-01\n",
       "Name: Date, Length: 8400, dtype: datetime64[ns]"
      ]
     },
     "execution_count": 42,
     "metadata": {},
     "output_type": "execute_result"
    }
   ],
   "source": [
    "k = pd.to_datetime(la_df['Date'])\n",
    "k"
   ]
  },
  {
   "cell_type": "code",
   "execution_count": 52,
   "metadata": {},
   "outputs": [
    {
     "name": "stderr",
     "output_type": "stream",
     "text": [
      "C:\\Users\\azaan\\AppData\\Local\\Temp\\ipykernel_164304\\1656726982.py:6: SettingWithCopyWarning: \n",
      "A value is trying to be set on a copy of a slice from a DataFrame.\n",
      "Try using .loc[row_indexer,col_indexer] = value instead\n",
      "\n",
      "See the caveats in the documentation: https://pandas.pydata.org/pandas-docs/stable/user_guide/indexing.html#returning-a-view-versus-a-copy\n",
      "  la_df['Date'] = pd.to_datetime(la_df['Date'])\n"
     ]
    },
    {
     "data": {
      "image/png": "[encoded data removed]",
      "text/plain": [
       "<Figure size 640x480 with 1 Axes>"
      ]
     },
     "metadata": {},
     "output_type": "display_data"
    }
   ],
   "source": [
    "# see some histograms on some columns\n",
    "import matplotlib.pyplot as plt\n",
    "import matplotlib.dates\n",
    "\n",
    "# need to convert date to datetime to do this\n",
    "la_df['Date'] = pd.to_datetime(la_df['Date'])\n",
    "\n",
    "# plt.hist(la_df[' AvgTemperature'])\n",
    "fig, ax = plt.subplots()\n",
    "ax.bar(la_df['Date'], la_df[' AvgTemperature'])\n",
    "ax.set_ylim([40,85])\n",
    "plt.show()"
   ]
  },
  {
   "attachments": {},
   "cell_type": "markdown",
   "metadata": {},
   "source": [
    "Did some exploring on the data, I want ot look more at the sanfran data too. We can get more data around the USA just let me know.\\\n",
    "Also, the data you guys try and find let's see if we can concatonate it with my data and we can come up with a correlation of some sort.\\\n",
    "When you guys find a dataset, just put  it into the datasets folder\\\n",
    "If you guys want to look at more cool things with the above data go ahead!"
   ]
  },
  {
   "cell_type": "code",
   "execution_count": null,
   "metadata": {},
   "outputs": [],
   "source": []
  }
 ],
 "metadata": {
  "kernelspec": {
   "display_name": "Python 3",
   "language": "python",
   "name": "python3"
  },
  "language_info": {
   "codemirror_mode": {
    "name": "ipython",
    "version": 3
   },
   "file_extension": ".py",
   "mimetype": "text/x-python",
   "name": "python",
   "nbconvert_exporter": "python",
   "pygments_lexer": "ipython3",
   "version": "3.10.7"
  },
  "orig_nbformat": 4,
  "vscode": {
   "interpreter": {
    "hash": "722e8765311bc783d01f25953f3c9b79780613b39edb0509b118f4c4b0314537"
   }
  }
 },
 "nbformat": 4,
 "nbformat_minor": 2
}
